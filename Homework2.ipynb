{
  "nbformat": 4,
  "nbformat_minor": 0,
  "metadata": {
    "colab": {
      "name": "Homework2.ipynb",
      "provenance": [],
      "toc_visible": true,
      "authorship_tag": "ABX9TyNYSeBgE06eBdc9ljzGVhk4",
      "include_colab_link": true
    },
    "kernelspec": {
      "name": "python3",
      "display_name": "Python 3"
    },
    "language_info": {
      "name": "python"
    }
  },
  "cells": [
    {
      "cell_type": "markdown",
      "metadata": {
        "id": "view-in-github",
        "colab_type": "text"
      },
      "source": [
        "<a href=\"https://colab.research.google.com/github/SpandanJogannagari/Machine-Learning-Homeworks/blob/main/Homework2.ipynb\" target=\"_parent\"><img src=\"https://colab.research.google.com/assets/colab-badge.svg\" alt=\"Open In Colab\"/></a>"
      ]
    },
    {
      "cell_type": "code",
      "metadata": {
        "id": "Ta5SjMxpJV7K"
      },
      "source": [
        "import pandas as pd\n",
        "import numpy as np\n",
        "import matplotlib.pyplot as plt\n",
        "import re\n",
        "\n",
        "from sklearn import tree\n",
        "\n",
        "from IPython.display import Image as PImage\n",
        "from subprocess import check_call\n",
        "from PIL import Image, ImageDraw, ImageFont\n",
        "from sklearn.model_selection import train_test_split\n",
        "from sklearn.metrics import accuracy_score\n",
        "from sklearn.model_selection import KFold\n",
        "from sklearn.model_selection import cross_val_score\n",
        "from sklearn.model_selection import cross_val_predict\n",
        "from sklearn.model_selection import train_test_split\n",
        "\n",
        "from sklearn import svm\n",
        "import seaborn as sns\n",
        "import math"
      ],
      "execution_count": 1,
      "outputs": []
    },
    {
      "cell_type": "markdown",
      "metadata": {
        "id": "O2VN1URwKXXE"
      },
      "source": [
        "TASK 2"
      ]
    },
    {
      "cell_type": "code",
      "metadata": {
        "id": "13KZ4vHpnmf2"
      },
      "source": [
        ""
      ],
      "execution_count": null,
      "outputs": []
    },
    {
      "cell_type": "markdown",
      "metadata": {
        "id": "vnE9fdnannto"
      },
      "source": [
        "TASK-5"
      ]
    },
    {
      "cell_type": "markdown",
      "metadata": {
        "id": "Og5TmKz7nmCh"
      },
      "source": [
        ""
      ]
    },
    {
      "cell_type": "code",
      "metadata": {
        "id": "jqs4SGyCKWk3",
        "colab": {
          "base_uri": "https://localhost:8080/",
          "height": 235
        },
        "outputId": "df9293a3-3f96-4173-ae9e-f94250b7e6e4"
      },
      "source": [
        "\n",
        "x1 = [1,2,2,0,1,0]\n",
        "x2 = [1,2,0,0,0,1]\n",
        "cls = ['+','+','+','-','-','-']\n",
        "dict = {\"class\":cls,\"x1\":x1,\"x2\":x2}\n",
        "df = pd.DataFrame(dict)\n",
        "df"
      ],
      "execution_count": 2,
      "outputs": [
        {
          "output_type": "execute_result",
          "data": {
            "text/html": [
              "<div>\n",
              "<style scoped>\n",
              "    .dataframe tbody tr th:only-of-type {\n",
              "        vertical-align: middle;\n",
              "    }\n",
              "\n",
              "    .dataframe tbody tr th {\n",
              "        vertical-align: top;\n",
              "    }\n",
              "\n",
              "    .dataframe thead th {\n",
              "        text-align: right;\n",
              "    }\n",
              "</style>\n",
              "<table border=\"1\" class=\"dataframe\">\n",
              "  <thead>\n",
              "    <tr style=\"text-align: right;\">\n",
              "      <th></th>\n",
              "      <th>class</th>\n",
              "      <th>x1</th>\n",
              "      <th>x2</th>\n",
              "    </tr>\n",
              "  </thead>\n",
              "  <tbody>\n",
              "    <tr>\n",
              "      <th>0</th>\n",
              "      <td>+</td>\n",
              "      <td>1</td>\n",
              "      <td>1</td>\n",
              "    </tr>\n",
              "    <tr>\n",
              "      <th>1</th>\n",
              "      <td>+</td>\n",
              "      <td>2</td>\n",
              "      <td>2</td>\n",
              "    </tr>\n",
              "    <tr>\n",
              "      <th>2</th>\n",
              "      <td>+</td>\n",
              "      <td>2</td>\n",
              "      <td>0</td>\n",
              "    </tr>\n",
              "    <tr>\n",
              "      <th>3</th>\n",
              "      <td>-</td>\n",
              "      <td>0</td>\n",
              "      <td>0</td>\n",
              "    </tr>\n",
              "    <tr>\n",
              "      <th>4</th>\n",
              "      <td>-</td>\n",
              "      <td>1</td>\n",
              "      <td>0</td>\n",
              "    </tr>\n",
              "    <tr>\n",
              "      <th>5</th>\n",
              "      <td>-</td>\n",
              "      <td>0</td>\n",
              "      <td>1</td>\n",
              "    </tr>\n",
              "  </tbody>\n",
              "</table>\n",
              "</div>"
            ],
            "text/plain": [
              "  class  x1  x2\n",
              "0     +   1   1\n",
              "1     +   2   2\n",
              "2     +   2   0\n",
              "3     -   0   0\n",
              "4     -   1   0\n",
              "5     -   0   1"
            ]
          },
          "metadata": {},
          "execution_count": 2
        }
      ]
    },
    {
      "cell_type": "code",
      "metadata": {
        "id": "cv15hYRsoe5y"
      },
      "source": [
        "\n",
        "datapoints = df[['x1','x2']].values\n",
        "y = df['class'].values"
      ],
      "execution_count": 48,
      "outputs": []
    },
    {
      "cell_type": "code",
      "metadata": {
        "colab": {
          "base_uri": "https://localhost:8080/",
          "height": 423
        },
        "id": "KRlJzYeBo0NV",
        "outputId": "c7e5cd3d-dacd-4789-b394-92e6ea5aedde"
      },
      "source": [
        "sns.lmplot('x1','x2',data = df, hue='class',fit_reg = False);"
      ],
      "execution_count": 49,
      "outputs": [
        {
          "output_type": "stream",
          "name": "stderr",
          "text": [
            "/usr/local/lib/python3.7/dist-packages/seaborn/_decorators.py:43: FutureWarning: Pass the following variables as keyword args: x, y. From version 0.12, the only valid positional argument will be `data`, and passing other arguments without an explicit keyword will result in an error or misinterpretation.\n",
            "  FutureWarning\n"
          ]
        },
        {
          "output_type": "display_data",
          "data": {
            "image/png": "[encoded data removed]",
            "text/plain": [
              "<Figure size 404.375x360 with 1 Axes>"
            ]
          },
          "metadata": {
            "needs_background": "light"
          }
        }
      ]
    },
    {
      "cell_type": "code",
      "metadata": {
        "colab": {
          "base_uri": "https://localhost:8080/",
          "height": 593
        },
        "id": "Pd8_vHgTo-nQ",
        "outputId": "c0632eb5-3e27-4a21-ee71-ea5bbd8a5e7f"
      },
      "source": [
        "C = [1.0,2.0,3.0]\n",
        "\n",
        "Weight = list()\n",
        "bias = list()\n",
        "MaxMargin = 0\n",
        "slope =0\n",
        "for j in C:\n",
        "    Model = svm.SVC(C = j, kernel = 'linear')\n",
        "    Model.fit(datapoints,y)\n",
        "    W = Model.coef_[0]\n",
        "    sum = 0\n",
        "    for i in W:\n",
        "        sum = sum + i*i;\n",
        "    w = math.sqrt(sum)\n",
        "    Margin = 2 / w;\n",
        "    \n",
        "    if(MaxMargin < Margin):\n",
        "        print(\"C = \", j)\n",
        "        print(\"MaxMargin = \", Margin)\n",
        "        MaxMargin = Margin\n",
        "        Weight.append(W)\n",
        "        b = Model.intercept_[0]\n",
        "        bias.append(b)\n",
        "        print(\"Weight(W)= \", W)\n",
        "        print(\"Bias(b)=\", b)\n",
        "        print(\"Support Vectors = \",Model.support_vectors_)\n",
        "        s = -W[0]/W[1]\n",
        "        print(\"Plane Slope =\", s)\n",
        "        slope = s\n",
        "W = Weight[0]\n",
        "b = bias[0]\n",
        "X = np.linspace(0,3)\n",
        "Y = slope* X - (b/W[1])\n",
        "  \n",
        "s1 = Model.support_vectors_[0]\n",
        "Y_down = slope* X + (s1[1] - slope*s1[0])\n",
        " \n",
        "s2 = Model.support_vectors_[2]\n",
        "Y_up = slope* X + (s2[1] - slope*s2[0])\n",
        "sns.lmplot('x1','x2',data = df, hue='class',fit_reg = False);\n",
        "plt.plot(X,Y, linewidth = 1, color = 'red')\n",
        "plt.plot(X,Y_down, 'k--')\n",
        "plt.plot(X,Y_up,'k--')"
      ],
      "execution_count": 55,
      "outputs": [
        {
          "output_type": "stream",
          "name": "stdout",
          "text": [
            "C =  1.0\n",
            "MaxMargin =  1.5811388300841893\n",
            "Weight(W)=  [-1.2 -0.4]\n",
            "Bias(b)= 1.4\n",
            "Support Vectors =  [[1. 1.]\n",
            " [2. 0.]\n",
            " [1. 0.]\n",
            " [0. 1.]]\n",
            "Plane Slope = -3.0000000000000004\n"
          ]
        },
        {
          "output_type": "stream",
          "name": "stderr",
          "text": [
            "/usr/local/lib/python3.7/dist-packages/seaborn/_decorators.py:43: FutureWarning: Pass the following variables as keyword args: x, y. From version 0.12, the only valid positional argument will be `data`, and passing other arguments without an explicit keyword will result in an error or misinterpretation.\n",
            "  FutureWarning\n"
          ]
        },
        {
          "output_type": "execute_result",
          "data": {
            "text/plain": [
              "[<matplotlib.lines.Line2D at 0x7f3c7237bd10>]"
            ]
          },
          "metadata": {},
          "execution_count": 55
        },
        {
          "output_type": "display_data",
          "data": {
            "image/png": "[encoded data removed]",
            "text/plain": [
              "<Figure size 404.375x360 with 1 Axes>"
            ]
          },
          "metadata": {
            "needs_background": "light"
          }
        }
      ]
    },
    {
      "cell_type": "markdown",
      "metadata": {
        "id": "89lEBmbbsv_F"
      },
      "source": [
        "TASK 6"
      ]
    },
    {
      "cell_type": "code",
      "metadata": {
        "colab": {
          "base_uri": "https://localhost:8080/",
          "height": 265
        },
        "id": "Iyhpxbjzstm1",
        "outputId": "017ac684-0168-434c-d987-d6d8931837d8"
      },
      "source": [
        "X = np.array([-1, 0, 1])\n",
        "Y = np.array([1, 0, 1])\n",
        "\n",
        "plt.scatter(X, [0, 0, 0], c=['red', 'blue', 'red'], s=40, cmap=plt.cm.Paired)\n",
        "\n",
        "plt.show()"
      ],
      "execution_count": 7,
      "outputs": [
        {
          "output_type": "display_data",
          "data": {
            "image/png": "[encoded data removed]",
            "text/plain": [
              "<Figure size 432x288 with 1 Axes>"
            ]
          },
          "metadata": {
            "needs_background": "light"
          }
        }
      ]
    },
    {
      "cell_type": "code",
      "metadata": {
        "colab": {
          "base_uri": "https://localhost:8080/",
          "height": 248
        },
        "id": "PbwCGRWAtl3A",
        "outputId": "d6fec1e8-30b5-4cd9-8dc2-019ad4dac360"
      },
      "source": [
        "X = np.array([[1, 0, 0], [1, -1*np.sqrt(2), 1],[1, np.sqrt(2), 1]])\n",
        "Y = np.array([1, 0, 1])\n",
        "model = svm.SVC(kernel='linear')\n",
        "K = model.fit(X, Y)\n",
        "temp = np.linspace(-5,5,100)\n",
        "x,y = np.meshgrid(temp,temp)\n",
        "fig = plt.figure()\n",
        "fig1 = fig.add_subplot(projection = '3d')\n",
        "\n",
        "fig1.plot3D(X[Y == 0,0], X[Y == 0,1], X[Y == 0,2],'og')\n",
        "fig1.plot3D(X[Y == 1,0], X[Y == 1,1], X[Y == 1,2],'sr')\n",
        "fig1.plot_surface(x,y, (-model.intercept_[0]-model.coef_[0][0]*x-model.coef_[0][1]*y)/model.coef_[0][2])\n",
        "fig1.view_init(40, 35)\n",
        "plt.show()\n"
      ],
      "execution_count": 22,
      "outputs": [
        {
          "output_type": "display_data",
          "data": {
            "image/png": "[encoded data removed]",
            "text/plain": [
              "<Figure size 432x288 with 1 Axes>"
            ]
          },
          "metadata": {
            "needs_background": "light"
          }
        }
      ]
    },
    {
      "cell_type": "markdown",
      "metadata": {
        "id": "LqMmYAemzyEw"
      },
      "source": [
        "TASK 7"
      ]
    },
    {
      "cell_type": "code",
      "metadata": {
        "id": "r8GeMvkczxhu"
      },
      "source": [
        "df_train=pd.read_csv('train.csv')\n",
        "df_test=pd.read_csv('test.csv')"
      ],
      "execution_count": 38,
      "outputs": []
    },
    {
      "cell_type": "code",
      "metadata": {
        "id": "UW94Odptzs0l"
      },
      "source": [
        "Full_data=[df_train,df_test]\n",
        "\n",
        "for dataset in Full_data:\n",
        "    # Mapping Sex\n",
        "    dataset['Sex'] = dataset['Sex'].map( {'female': 0, 'male': 1} ).astype(int)\n",
        "\n",
        "    #Map any null values to median of the fare value\n",
        "    dataset['Fare'] = dataset['Fare'].fillna(df_train['Fare'].median())\n",
        "\n",
        "    #Map any Age values to mean of the age value\n",
        "    dataset['Age'] = dataset['Age'].fillna(df_train['Age'].mean())\n",
        "\n",
        "    #Map Null values in Embarked column to S as we have most of the values as S\n",
        "    dataset['Embarked'] = dataset['Embarked'].fillna('S')\n",
        "    #Calculating Familysize in order to find if the person is travelling alone or not\n",
        "    dataset['FamilySize'] = dataset['SibSp'] + dataset['Parch'] + 1\n",
        "\n",
        "#Map if a person is travelling alone or has some family members with him\n",
        "\n",
        "for dataset in Full_data:\n",
        "    dataset['isAlone']='0'\n",
        "    dataset.loc[dataset['FamilySize'] == 1, 'isAlone'] = 1\n",
        "\n",
        "#categorize age values into 5 classe groups\n",
        "for dataset in Full_data:\n",
        "    dataset.loc[ dataset['Age'] <= 18, 'Age'] \t\t\t\t\t       = 0\n",
        "    dataset.loc[(dataset['Age'] > 18) & (dataset['Age'] <= 35), 'Age'] = 1\n",
        "    dataset.loc[(dataset['Age'] > 35) & (dataset['Age'] <= 50), 'Age'] = 2\n",
        "    dataset.loc[(dataset['Age'] > 50) & (dataset['Age'] <= 65), 'Age'] = 3\n",
        "    dataset.loc[ dataset['Age'] > 65, 'Age'] = 4;\n",
        "    dataset['Age'] = dataset['Age'].astype(int);\n",
        "\n",
        " # categorize  fare data tnto 3 Mapping Fare\n",
        "for dataset in Full_data:\n",
        "    dataset.loc[ dataset['Fare'] <= 7.91, 'Fare'] = 0\n",
        "    dataset.loc[(dataset['Fare'] > 7.91) & (dataset['Fare'] <= 14.454), 'Fare'] = 1\n",
        "    dataset.loc[(dataset['Fare'] > 14.454) & (dataset['Fare'] <= 31), 'Fare']   = 2\n",
        "    dataset.loc[ dataset['Fare'] > 31, 'Fare'] = 3\n",
        "    dataset['Fare'] = dataset['Fare'].astype(int);\n",
        "\n",
        "#categorize Embarked into three types\n",
        "for dataset in Full_data:\n",
        "    dataset['Embarked'] = dataset['Embarked'].map( {'S': 0, 'C': 1, 'Q': 2} ).astype(int)\n"
      ],
      "execution_count": 39,
      "outputs": []
    },
    {
      "cell_type": "code",
      "metadata": {
        "id": "AzChfZax0sAS"
      },
      "source": [
        "#As we have lot of null values in Cabin we can ignore that as we have only 204 records in it.\n",
        "#we will remove Ticket aswell as we do not use it for our comparision\n",
        "#we will remove Passenger id aswell as we are not categorize that data in our data\n",
        "#we are removing FamilySize aswell as we will not categorize it any how\n",
        "drop_features = ['PassengerId','Ticket','Cabin','Name','Parch','SibSp']\n",
        "df_train = df_train.drop(drop_features, axis = 1)\n",
        "df_test  = df_test.drop(drop_features, axis = 1)\n"
      ],
      "execution_count": 40,
      "outputs": []
    },
    {
      "cell_type": "code",
      "metadata": {
        "colab": {
          "base_uri": "https://localhost:8080/",
          "height": 204
        },
        "id": "eVRyUKli0-Ue",
        "outputId": "9cc482a6-a8a6-47a8-c222-fe724d7ae77e"
      },
      "source": [
        "df_train.head()"
      ],
      "execution_count": 41,
      "outputs": [
        {
          "output_type": "execute_result",
          "data": {
            "text/html": [
              "<div>\n",
              "<style scoped>\n",
              "    .dataframe tbody tr th:only-of-type {\n",
              "        vertical-align: middle;\n",
              "    }\n",
              "\n",
              "    .dataframe tbody tr th {\n",
              "        vertical-align: top;\n",
              "    }\n",
              "\n",
              "    .dataframe thead th {\n",
              "        text-align: right;\n",
              "    }\n",
              "</style>\n",
              "<table border=\"1\" class=\"dataframe\">\n",
              "  <thead>\n",
              "    <tr style=\"text-align: right;\">\n",
              "      <th></th>\n",
              "      <th>Survived</th>\n",
              "      <th>Pclass</th>\n",
              "      <th>Sex</th>\n",
              "      <th>Age</th>\n",
              "      <th>Fare</th>\n",
              "      <th>Embarked</th>\n",
              "      <th>FamilySize</th>\n",
              "      <th>isAlone</th>\n",
              "    </tr>\n",
              "  </thead>\n",
              "  <tbody>\n",
              "    <tr>\n",
              "      <th>0</th>\n",
              "      <td>0</td>\n",
              "      <td>3</td>\n",
              "      <td>1</td>\n",
              "      <td>1</td>\n",
              "      <td>0</td>\n",
              "      <td>0</td>\n",
              "      <td>2</td>\n",
              "      <td>0</td>\n",
              "    </tr>\n",
              "    <tr>\n",
              "      <th>1</th>\n",
              "      <td>1</td>\n",
              "      <td>1</td>\n",
              "      <td>0</td>\n",
              "      <td>2</td>\n",
              "      <td>3</td>\n",
              "      <td>1</td>\n",
              "      <td>2</td>\n",
              "      <td>0</td>\n",
              "    </tr>\n",
              "    <tr>\n",
              "      <th>2</th>\n",
              "      <td>1</td>\n",
              "      <td>3</td>\n",
              "      <td>0</td>\n",
              "      <td>1</td>\n",
              "      <td>1</td>\n",
              "      <td>0</td>\n",
              "      <td>1</td>\n",
              "      <td>1</td>\n",
              "    </tr>\n",
              "    <tr>\n",
              "      <th>3</th>\n",
              "      <td>1</td>\n",
              "      <td>1</td>\n",
              "      <td>0</td>\n",
              "      <td>1</td>\n",
              "      <td>3</td>\n",
              "      <td>0</td>\n",
              "      <td>2</td>\n",
              "      <td>0</td>\n",
              "    </tr>\n",
              "    <tr>\n",
              "      <th>4</th>\n",
              "      <td>0</td>\n",
              "      <td>3</td>\n",
              "      <td>1</td>\n",
              "      <td>1</td>\n",
              "      <td>1</td>\n",
              "      <td>0</td>\n",
              "      <td>1</td>\n",
              "      <td>1</td>\n",
              "    </tr>\n",
              "  </tbody>\n",
              "</table>\n",
              "</div>"
            ],
            "text/plain": [
              "   Survived  Pclass  Sex  Age  Fare  Embarked  FamilySize isAlone\n",
              "0         0       3    1    1     0         0           2       0\n",
              "1         1       1    0    2     3         1           2       0\n",
              "2         1       3    0    1     1         0           1       1\n",
              "3         1       1    0    1     3         0           2       0\n",
              "4         0       3    1    1     1         0           1       1"
            ]
          },
          "metadata": {},
          "execution_count": 41
        }
      ]
    },
    {
      "cell_type": "code",
      "metadata": {
        "colab": {
          "base_uri": "https://localhost:8080/"
        },
        "id": "_5nbXBro1FIp",
        "outputId": "4d2ccd53-a50b-48da-82ba-c844ab5c9ffc"
      },
      "source": [
        "#we are training the dataset for DecisionTree Classification model\n",
        "a = df_train.drop(\"Survived\", axis=1)\n",
        "b = df_train[\"Survived\"]\n",
        "\n",
        "X_train, X_test, y_train, y_test = train_test_split(a,b,test_size=0.3,random_state=1)\n",
        "X_train.shape, X_test.shape, y_train.shape, y_test.shape"
      ],
      "execution_count": 42,
      "outputs": [
        {
          "output_type": "execute_result",
          "data": {
            "text/plain": [
              "((623, 7), (268, 7), (623,), (268,))"
            ]
          },
          "metadata": {},
          "execution_count": 42
        }
      ]
    },
    {
      "cell_type": "markdown",
      "metadata": {
        "id": "RAQYxdKe1xbO"
      },
      "source": [
        "Accuracy for linear kernel"
      ]
    },
    {
      "cell_type": "code",
      "metadata": {
        "colab": {
          "base_uri": "https://localhost:8080/"
        },
        "id": "qlhVId4L1JPH",
        "outputId": "b28abac2-f4d5-4f55-ae4f-117011473847"
      },
      "source": [
        "K = svm.SVC(kernel='linear')    # create the new kernel\n",
        "K.fit(X_train, y_train.ravel());\n",
        "accuracy_score = cross_val_score(K, X_train, y_train.ravel(), cv=5, scoring='accuracy').mean()\n",
        "print(\"Accuracy for Linear Kernel:\", accuracy_score)"
      ],
      "execution_count": 43,
      "outputs": [
        {
          "output_type": "stream",
          "name": "stdout",
          "text": [
            "Accuracy for Linear Kernel: 0.8009677419354839\n"
          ]
        }
      ]
    },
    {
      "cell_type": "markdown",
      "metadata": {
        "id": "vet_UEzj2ih6"
      },
      "source": [
        "Accuracy for polynomial function of degree 2(Quadratic)"
      ]
    },
    {
      "cell_type": "code",
      "metadata": {
        "colab": {
          "base_uri": "https://localhost:8080/"
        },
        "id": "wLAV3bv32KmR",
        "outputId": "5a343fcf-bf23-411d-e18c-1dab4da2c78f"
      },
      "source": [
        "\n",
        "p = svm.SVC(kernel='poly', degree=2)\n",
        "p.fit(X_train, y_train.ravel());\n",
        "accuracy_score = cross_val_score(p, X_train, y_train.ravel(), cv=5, scoring='accuracy').mean()\n",
        "print(\"Accuracy for Quadratic Kernel:\", accuracy_score)"
      ],
      "execution_count": 44,
      "outputs": [
        {
          "output_type": "stream",
          "name": "stdout",
          "text": [
            "Accuracy for Quadratic Kernel: 0.8170064516129031\n"
          ]
        }
      ]
    },
    {
      "cell_type": "markdown",
      "metadata": {
        "id": "DVx8w9cA5yZr"
      },
      "source": [
        "Accuracy for RBF Kernel"
      ]
    },
    {
      "cell_type": "code",
      "metadata": {
        "colab": {
          "base_uri": "https://localhost:8080/"
        },
        "id": "ER6mkmwQ34Dp",
        "outputId": "de17a278-5cc7-48e7-8aeb-1440c5422519"
      },
      "source": [
        "clf = svm.SVC(kernel='rbf')\n",
        "clf.fit(X_train, y_train.ravel());\n",
        "\n",
        "# Calculate the accuracy using cross-validation.\n",
        "accuracy_score = cross_val_score(clf, X_train, y_train.ravel(), cv=5, scoring='accuracy').mean()\n",
        "print(\"Accuracy for RBF Kernel:\", accuracy_score)"
      ],
      "execution_count": 46,
      "outputs": [
        {
          "output_type": "stream",
          "name": "stdout",
          "text": [
            "Accuracy for RBF Kernel: 0.8250451612903227\n"
          ]
        }
      ]
    }
  ]
}