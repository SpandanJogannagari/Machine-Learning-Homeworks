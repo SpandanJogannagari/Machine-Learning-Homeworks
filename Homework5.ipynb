{
  "nbformat": 4,
  "nbformat_minor": 0,
  "metadata": {
    "colab": {
      "name": "Homework5.ipynb",
      "provenance": [],
      "authorship_tag": "ABX9TyPA/rNZgTZmZf4CIotTlCZP",
      "include_colab_link": true
    },
    "kernelspec": {
      "name": "python3",
      "display_name": "Python 3"
    },
    "language_info": {
      "name": "python"
    }
  },
  "cells": [
    {
      "cell_type": "markdown",
      "metadata": {
        "id": "view-in-github",
        "colab_type": "text"
      },
      "source": [
        "<a href=\"https://colab.research.google.com/github/SpandanJogannagari/Machine-Learning-Homeworks/blob/main/Homework5.ipynb\" target=\"_parent\"><img src=\"https://colab.research.google.com/assets/colab-badge.svg\" alt=\"Open In Colab\"/></a>"
      ]
    },
    {
      "cell_type": "code",
      "metadata": {
        "colab": {
          "base_uri": "https://localhost:8080/"
        },
        "id": "fDLGDeyScnZI",
        "outputId": "a047cb1f-18bf-45b3-e4a3-ba1802f2b2cd"
      },
      "source": [
        "!pip install surprise\n",
        "import pandas as pd\n",
        "from surprise import KNNBasic,Reader, Dataset, SVD\n",
        "from surprise.model_selection import KFold, cross_validate\n",
        "import numpy as np\n",
        "import matplotlib.pyplot as plt"
      ],
      "execution_count": 39,
      "outputs": [
        {
          "output_type": "stream",
          "name": "stdout",
          "text": [
            "Requirement already satisfied: surprise in /usr/local/lib/python3.7/dist-packages (0.1)\n",
            "Requirement already satisfied: scikit-surprise in /usr/local/lib/python3.7/dist-packages (from surprise) (1.1.1)\n",
            "Requirement already satisfied: six>=1.10.0 in /usr/local/lib/python3.7/dist-packages (from scikit-surprise->surprise) (1.15.0)\n",
            "Requirement already satisfied: joblib>=0.11 in /usr/local/lib/python3.7/dist-packages (from scikit-surprise->surprise) (1.1.0)\n",
            "Requirement already satisfied: numpy>=1.11.2 in /usr/local/lib/python3.7/dist-packages (from scikit-surprise->surprise) (1.19.5)\n",
            "Requirement already satisfied: scipy>=1.0.0 in /usr/local/lib/python3.7/dist-packages (from scikit-surprise->surprise) (1.4.1)\n"
          ]
        }
      ]
    },
    {
      "cell_type": "code",
      "metadata": {
        "colab": {
          "base_uri": "https://localhost:8080/",
          "height": 204
        },
        "id": "Pu9YmwFgRLDH",
        "outputId": "a6e26ecc-6b97-4f8f-a532-8eac6eb5491a"
      },
      "source": [
        "ratings_df = pd.read_csv(\"ratings_small.csv\")\n",
        "ratings_df.head()"
      ],
      "execution_count": 14,
      "outputs": [
        {
          "output_type": "execute_result",
          "data": {
            "text/html": [
              "<div>\n",
              "<style scoped>\n",
              "    .dataframe tbody tr th:only-of-type {\n",
              "        vertical-align: middle;\n",
              "    }\n",
              "\n",
              "    .dataframe tbody tr th {\n",
              "        vertical-align: top;\n",
              "    }\n",
              "\n",
              "    .dataframe thead th {\n",
              "        text-align: right;\n",
              "    }\n",
              "</style>\n",
              "<table border=\"1\" class=\"dataframe\">\n",
              "  <thead>\n",
              "    <tr style=\"text-align: right;\">\n",
              "      <th></th>\n",
              "      <th>userId</th>\n",
              "      <th>movieId</th>\n",
              "      <th>rating</th>\n",
              "      <th>timestamp</th>\n",
              "    </tr>\n",
              "  </thead>\n",
              "  <tbody>\n",
              "    <tr>\n",
              "      <th>0</th>\n",
              "      <td>1</td>\n",
              "      <td>31</td>\n",
              "      <td>2.5</td>\n",
              "      <td>1260759144</td>\n",
              "    </tr>\n",
              "    <tr>\n",
              "      <th>1</th>\n",
              "      <td>1</td>\n",
              "      <td>1029</td>\n",
              "      <td>3.0</td>\n",
              "      <td>1260759179</td>\n",
              "    </tr>\n",
              "    <tr>\n",
              "      <th>2</th>\n",
              "      <td>1</td>\n",
              "      <td>1061</td>\n",
              "      <td>3.0</td>\n",
              "      <td>1260759182</td>\n",
              "    </tr>\n",
              "    <tr>\n",
              "      <th>3</th>\n",
              "      <td>1</td>\n",
              "      <td>1129</td>\n",
              "      <td>2.0</td>\n",
              "      <td>1260759185</td>\n",
              "    </tr>\n",
              "    <tr>\n",
              "      <th>4</th>\n",
              "      <td>1</td>\n",
              "      <td>1172</td>\n",
              "      <td>4.0</td>\n",
              "      <td>1260759205</td>\n",
              "    </tr>\n",
              "  </tbody>\n",
              "</table>\n",
              "</div>"
            ],
            "text/plain": [
              "   userId  movieId  rating   timestamp\n",
              "0       1       31     2.5  1260759144\n",
              "1       1     1029     3.0  1260759179\n",
              "2       1     1061     3.0  1260759182\n",
              "3       1     1129     2.0  1260759185\n",
              "4       1     1172     4.0  1260759205"
            ]
          },
          "metadata": {},
          "execution_count": 14
        }
      ]
    },
    {
      "cell_type": "code",
      "metadata": {
        "id": "bJPPb2YhRuO2"
      },
      "source": [
        "reader = Reader(line_format = 'user item rating',rating_scale = (0,5))\n",
        "ratings_data = Dataset.load_from_df(ratings_df[[\"userId\",\"movieId\",\"rating\"]],reader)"
      ],
      "execution_count": 17,
      "outputs": []
    },
    {
      "cell_type": "code",
      "metadata": {
        "colab": {
          "base_uri": "https://localhost:8080/"
        },
        "id": "VC2R_zUzdnM9",
        "outputId": "8114e58c-7a68-4009-e810-e0e997a4033d"
      },
      "source": [
        "svd=SVD(biased=False)\n",
        "pmf_result = cross_validate(svd, ratings_data, measures=['RMSE', 'MAE'], cv=5, verbose=True);"
      ],
      "execution_count": 21,
      "outputs": [
        {
          "output_type": "stream",
          "name": "stdout",
          "text": [
            "Evaluating RMSE, MAE of algorithm SVD on 5 split(s).\n",
            "\n",
            "                  Fold 1  Fold 2  Fold 3  Fold 4  Fold 5  Mean    Std     \n",
            "RMSE (testset)    1.0090  1.0224  1.0192  1.0132  1.0154  1.0159  0.0046  \n",
            "MAE (testset)     0.7766  0.7890  0.7827  0.7783  0.7829  0.7819  0.0043  \n",
            "Fit time          4.92    4.93    5.04    5.01    4.77    4.93    0.09    \n",
            "Test time         0.35    0.14    0.15    0.22    0.21    0.21    0.08    \n"
          ]
        }
      ]
    },
    {
      "cell_type": "code",
      "metadata": {
        "colab": {
          "base_uri": "https://localhost:8080/"
        },
        "id": "XXxsMjYyT1ET",
        "outputId": "43d0d199-890e-4d05-e269-245615323734"
      },
      "source": [
        "mae_pmf = pmf_result['test_mae'].mean()\n",
        "rmse_pmf = pmf_result['test_rmse'].mean()\n",
        "print(f'Average MAE of 5-folds cross-validation of PMF is {mae_pmf}')\n",
        "print(f'Average RMSE of 5-folds cross-validation OF PFM is {rmse_pmf}')"
      ],
      "execution_count": 23,
      "outputs": [
        {
          "output_type": "stream",
          "name": "stdout",
          "text": [
            "Average MAE of 5-folds cross-validation of PMF is 0.7819000361481797\n",
            "Average RMSE of 5-folds cross-validation OF PFM is 1.0158557498899237\n"
          ]
        }
      ]
    },
    {
      "cell_type": "code",
      "metadata": {
        "colab": {
          "base_uri": "https://localhost:8080/"
        },
        "id": "PeCyRxRhTU-I",
        "outputId": "c67b3186-b1df-44e5-e464-c4968b9c4d4f"
      },
      "source": [
        "# USER-BASED -\n",
        "option_user_based = {'user-based': True}\n",
        "result_user = cross_validate(KNNBasic(sim_options = option_user_based), ratings_data, measures=['RMSE', 'MAE'], cv=5, verbose=True)\n"
      ],
      "execution_count": 24,
      "outputs": [
        {
          "output_type": "stream",
          "name": "stdout",
          "text": [
            "Computing the msd similarity matrix...\n",
            "Done computing similarity matrix.\n",
            "Computing the msd similarity matrix...\n",
            "Done computing similarity matrix.\n",
            "Computing the msd similarity matrix...\n",
            "Done computing similarity matrix.\n",
            "Computing the msd similarity matrix...\n",
            "Done computing similarity matrix.\n",
            "Computing the msd similarity matrix...\n",
            "Done computing similarity matrix.\n",
            "Evaluating RMSE, MAE of algorithm KNNBasic on 5 split(s).\n",
            "\n",
            "                  Fold 1  Fold 2  Fold 3  Fold 4  Fold 5  Mean    Std     \n",
            "RMSE (testset)    0.9582  0.9703  0.9807  0.9655  0.9704  0.9690  0.0073  \n",
            "MAE (testset)     0.7360  0.7464  0.7513  0.7421  0.7452  0.7442  0.0051  \n",
            "Fit time          0.19    0.18    0.17    0.16    0.16    0.17    0.01    \n",
            "Test time         2.05    1.79    1.90    1.85    1.79    1.87    0.09    \n"
          ]
        }
      ]
    },
    {
      "cell_type": "code",
      "metadata": {
        "colab": {
          "base_uri": "https://localhost:8080/"
        },
        "id": "jWPc6SxQXqER",
        "outputId": "274ea155-561d-4ca3-824b-dedea2543b69"
      },
      "source": [
        "mae_user = result_user['test_mae'].mean()\n",
        "rmse_user = result_user['test_rmse'].mean()\n",
        "print(f'Average MAE of 5-folds cross-validation of User Based is {mae_user}')\n",
        "print(f'Average RMSE of 5-folds cross-validation of User Based is {rmse_user}')"
      ],
      "execution_count": 25,
      "outputs": [
        {
          "output_type": "stream",
          "name": "stdout",
          "text": [
            "Average MAE of 5-folds cross-validation of User Based is 0.744208723901852\n",
            "Average RMSE of 5-folds cross-validation of User Based is 0.9690162749204703\n"
          ]
        }
      ]
    },
    {
      "cell_type": "code",
      "metadata": {
        "colab": {
          "base_uri": "https://localhost:8080/"
        },
        "id": "AtWjRHkrXkA7",
        "outputId": "d06d8c07-1ba2-4f4d-f0d3-53aba64c586e"
      },
      "source": [
        "Option_item_based = {'user-based': False}\n",
        "result_item = cross_validate(KNNBasic(sim_options = Option_item_based), ratings_data, measures=['RMSE', 'MAE'], cv=5, verbose=True)"
      ],
      "execution_count": 26,
      "outputs": [
        {
          "output_type": "stream",
          "name": "stdout",
          "text": [
            "Computing the msd similarity matrix...\n",
            "Done computing similarity matrix.\n",
            "Computing the msd similarity matrix...\n",
            "Done computing similarity matrix.\n",
            "Computing the msd similarity matrix...\n",
            "Done computing similarity matrix.\n",
            "Computing the msd similarity matrix...\n",
            "Done computing similarity matrix.\n",
            "Computing the msd similarity matrix...\n",
            "Done computing similarity matrix.\n",
            "Evaluating RMSE, MAE of algorithm KNNBasic on 5 split(s).\n",
            "\n",
            "                  Fold 1  Fold 2  Fold 3  Fold 4  Fold 5  Mean    Std     \n",
            "RMSE (testset)    0.9672  0.9618  0.9696  0.9702  0.9717  0.9681  0.0035  \n",
            "MAE (testset)     0.7441  0.7403  0.7450  0.7435  0.7474  0.7441  0.0023  \n",
            "Fit time          0.13    0.17    0.23    0.17    0.27    0.20    0.05    \n",
            "Test time         1.76    1.94    1.93    1.78    2.00    1.88    0.09    \n"
          ]
        }
      ]
    },
    {
      "cell_type": "code",
      "metadata": {
        "colab": {
          "base_uri": "https://localhost:8080/"
        },
        "id": "uBZLnvLYX0wV",
        "outputId": "f424cc5f-0c7c-47a7-dd9c-23ef4b87db4d"
      },
      "source": [
        "mae_item = result_item['test_mae'].mean()\n",
        "rmse_item = result_item['test_rmse'].mean()\n",
        "print(f'Average MAE of 5-folds cross-validation of Item Based is {mae_item}')\n",
        "print(f'Average RMSE of 5-folds cross-validation of Item Based is {rmse_item}')"
      ],
      "execution_count": 28,
      "outputs": [
        {
          "output_type": "stream",
          "name": "stdout",
          "text": [
            "Average MAE of 5-folds cross-validation of Item Based is 0.7440774899606795\n",
            "Average RMSE of 5-folds cross-validation of Item Based is 0.9681016709725837\n"
          ]
        }
      ]
    },
    {
      "cell_type": "code",
      "metadata": {
        "colab": {
          "base_uri": "https://localhost:8080/"
        },
        "id": "KbAWZcGpfE-y",
        "outputId": "93ce2b5c-2bde-4e8b-e072-199ffc9122a0"
      },
      "source": [
        "#MSD\n",
        "user_based_MSD = {'name':'msd', 'user-based': True}\n",
        "item_based_MSD = {'name':'msd', 'user-based': False}\n",
        "user_MSD = cross_validate(KNNBasic(sim_options = user_based_MSD), ratings_data, measures=['RMSE', 'MAE'], cv=5, verbose=True)\n",
        "item_MSD = cross_validate(KNNBasic(sim_options = item_based_MSD), ratings_data, measures=['RMSE', 'MAE'], cv=5, verbose=True)\n"
      ],
      "execution_count": 32,
      "outputs": [
        {
          "output_type": "stream",
          "name": "stdout",
          "text": [
            "Computing the msd similarity matrix...\n",
            "Done computing similarity matrix.\n",
            "Computing the msd similarity matrix...\n",
            "Done computing similarity matrix.\n",
            "Computing the msd similarity matrix...\n",
            "Done computing similarity matrix.\n",
            "Computing the msd similarity matrix...\n",
            "Done computing similarity matrix.\n",
            "Computing the msd similarity matrix...\n",
            "Done computing similarity matrix.\n",
            "Evaluating RMSE, MAE of algorithm KNNBasic on 5 split(s).\n",
            "\n",
            "                  Fold 1  Fold 2  Fold 3  Fold 4  Fold 5  Mean    Std     \n",
            "RMSE (testset)    0.9656  0.9637  0.9692  0.9678  0.9725  0.9678  0.0030  \n",
            "MAE (testset)     0.7454  0.7410  0.7434  0.7431  0.7466  0.7439  0.0019  \n",
            "Fit time          0.16    0.16    0.26    0.17    0.19    0.19    0.04    \n",
            "Test time         1.89    1.72    1.86    1.88    2.28    1.92    0.19    \n",
            "Computing the msd similarity matrix...\n",
            "Done computing similarity matrix.\n",
            "Computing the msd similarity matrix...\n",
            "Done computing similarity matrix.\n",
            "Computing the msd similarity matrix...\n",
            "Done computing similarity matrix.\n",
            "Computing the msd similarity matrix...\n",
            "Done computing similarity matrix.\n",
            "Computing the msd similarity matrix...\n",
            "Done computing similarity matrix.\n",
            "Evaluating RMSE, MAE of algorithm KNNBasic on 5 split(s).\n",
            "\n",
            "                  Fold 1  Fold 2  Fold 3  Fold 4  Fold 5  Mean    Std     \n",
            "RMSE (testset)    0.9658  0.9644  0.9775  0.9707  0.9671  0.9691  0.0047  \n",
            "MAE (testset)     0.7460  0.7424  0.7515  0.7433  0.7414  0.7449  0.0036  \n",
            "Fit time          0.13    0.16    0.18    0.16    0.25    0.18    0.04    \n",
            "Test time         1.95    1.86    1.82    2.05    1.90    1.92    0.08    \n"
          ]
        }
      ]
    },
    {
      "cell_type": "code",
      "metadata": {
        "colab": {
          "base_uri": "https://localhost:8080/"
        },
        "id": "Xivbh-sHfgp-",
        "outputId": "db3c270e-fa7b-4666-e2a7-17d0d5ca5f4e"
      },
      "source": [
        "#COSINE\n",
        "user_based_COSINE = {'name':'cosine', 'user-based': True}\n",
        "item_based_COSINE = {'name':'cosine', 'user-based': False}\n",
        "user_COSINE = cross_validate(KNNBasic(sim_options = user_based_COSINE), ratings_data, measures=['RMSE', 'MAE'], cv=5, verbose=True)\n",
        "item_COSINE = cross_validate(KNNBasic(sim_options = item_based_COSINE), ratings_data, measures=['RMSE', 'MAE'], cv=5, verbose=True)\n"
      ],
      "execution_count": 33,
      "outputs": [
        {
          "output_type": "stream",
          "name": "stdout",
          "text": [
            "Computing the cosine similarity matrix...\n",
            "Done computing similarity matrix.\n",
            "Computing the cosine similarity matrix...\n",
            "Done computing similarity matrix.\n",
            "Computing the cosine similarity matrix...\n",
            "Done computing similarity matrix.\n",
            "Computing the cosine similarity matrix...\n",
            "Done computing similarity matrix.\n",
            "Computing the cosine similarity matrix...\n",
            "Done computing similarity matrix.\n",
            "Evaluating RMSE, MAE of algorithm KNNBasic on 5 split(s).\n",
            "\n",
            "                  Fold 1  Fold 2  Fold 3  Fold 4  Fold 5  Mean    Std     \n",
            "RMSE (testset)    0.9846  0.9968  1.0011  0.9869  1.0013  0.9941  0.0071  \n",
            "MAE (testset)     0.7611  0.7701  0.7739  0.7622  0.7719  0.7679  0.0052  \n",
            "Fit time          0.50    0.54    0.50    0.48    0.52    0.51    0.02    \n",
            "Test time         1.90    2.02    2.07    1.92    1.95    1.97    0.06    \n",
            "Computing the cosine similarity matrix...\n",
            "Done computing similarity matrix.\n",
            "Computing the cosine similarity matrix...\n",
            "Done computing similarity matrix.\n",
            "Computing the cosine similarity matrix...\n",
            "Done computing similarity matrix.\n",
            "Computing the cosine similarity matrix...\n",
            "Done computing similarity matrix.\n",
            "Computing the cosine similarity matrix...\n",
            "Done computing similarity matrix.\n",
            "Evaluating RMSE, MAE of algorithm KNNBasic on 5 split(s).\n",
            "\n",
            "                  Fold 1  Fold 2  Fold 3  Fold 4  Fold 5  Mean    Std     \n",
            "RMSE (testset)    0.9906  0.9964  1.0050  0.9940  0.9898  0.9952  0.0055  \n",
            "MAE (testset)     0.7641  0.7681  0.7752  0.7680  0.7672  0.7685  0.0036  \n",
            "Fit time          0.43    0.44    0.41    0.41    0.52    0.44    0.04    \n",
            "Test time         2.17    2.06    1.88    1.85    2.02    2.00    0.12    \n"
          ]
        }
      ]
    },
    {
      "cell_type": "code",
      "metadata": {
        "colab": {
          "base_uri": "https://localhost:8080/"
        },
        "id": "nqJA_5mCf5aZ",
        "outputId": "4a1a2a01-a814-40ef-b58c-40a264c6d330"
      },
      "source": [
        "#PEARSON\n",
        "user_based_PEARSON = {'name':'pearson_baseline', 'user-based': True}\n",
        "item_based_PEARSON = {'name':'pearson_baseline', 'user-based': False}\n",
        "user_PEARSON = cross_validate(KNNBasic(sim_options = user_based_PEARSON), ratings_data, measures=['RMSE', 'MAE'], cv=5, verbose=True)\n",
        "item_PEARSON = cross_validate(KNNBasic(sim_options = item_based_PEARSON), ratings_data, measures=['RMSE', 'MAE'], cv=5, verbose=True)\n"
      ],
      "execution_count": 34,
      "outputs": [
        {
          "output_type": "stream",
          "name": "stdout",
          "text": [
            "Estimating biases using als...\n",
            "Computing the pearson_baseline similarity matrix...\n",
            "Done computing similarity matrix.\n",
            "Estimating biases using als...\n",
            "Computing the pearson_baseline similarity matrix...\n",
            "Done computing similarity matrix.\n",
            "Estimating biases using als...\n",
            "Computing the pearson_baseline similarity matrix...\n",
            "Done computing similarity matrix.\n",
            "Estimating biases using als...\n",
            "Computing the pearson_baseline similarity matrix...\n",
            "Done computing similarity matrix.\n",
            "Estimating biases using als...\n",
            "Computing the pearson_baseline similarity matrix...\n",
            "Done computing similarity matrix.\n",
            "Evaluating RMSE, MAE of algorithm KNNBasic on 5 split(s).\n",
            "\n",
            "                  Fold 1  Fold 2  Fold 3  Fold 4  Fold 5  Mean    Std     \n",
            "RMSE (testset)    0.9955  0.9846  0.9958  1.0031  1.0021  0.9962  0.0066  \n",
            "MAE (testset)     0.7697  0.7604  0.7677  0.7737  0.7748  0.7693  0.0051  \n",
            "Fit time          0.82    0.83    0.82    0.81    0.86    0.83    0.02    \n",
            "Test time         1.81    1.81    1.65    1.89    2.10    1.85    0.14    \n",
            "Estimating biases using als...\n",
            "Computing the pearson_baseline similarity matrix...\n",
            "Done computing similarity matrix.\n",
            "Estimating biases using als...\n",
            "Computing the pearson_baseline similarity matrix...\n",
            "Done computing similarity matrix.\n",
            "Estimating biases using als...\n",
            "Computing the pearson_baseline similarity matrix...\n",
            "Done computing similarity matrix.\n",
            "Estimating biases using als...\n",
            "Computing the pearson_baseline similarity matrix...\n",
            "Done computing similarity matrix.\n",
            "Estimating biases using als...\n",
            "Computing the pearson_baseline similarity matrix...\n",
            "Done computing similarity matrix.\n",
            "Evaluating RMSE, MAE of algorithm KNNBasic on 5 split(s).\n",
            "\n",
            "                  Fold 1  Fold 2  Fold 3  Fold 4  Fold 5  Mean    Std     \n",
            "RMSE (testset)    1.0050  0.9987  0.9962  0.9981  1.0027  1.0002  0.0032  \n",
            "MAE (testset)     0.7778  0.7678  0.7683  0.7678  0.7736  0.7711  0.0040  \n",
            "Fit time          0.80    1.11    0.84    0.85    0.86    0.89    0.11    \n",
            "Test time         1.64    1.69    2.05    1.80    1.69    1.77    0.15    \n"
          ]
        }
      ]
    },
    {
      "cell_type": "code",
      "metadata": {
        "id": "rEiW5JPTff18"
      },
      "source": [
        "avg_mae_user_msd = user_MSD['test_mae'].mean()\n",
        "avg_rmse_user_msd = user_MSD['test_rmse'].mean()\n",
        "avg_mae_item_msd = item_MSD['test_mae'].mean()\n",
        "avg_rmse_item_msd = item_MSD['test_rmse'].mean()\n",
        "avg_mae_user_cosine = user_COSINE['test_mae'].mean()\n",
        "avg_rmse_user_cosine = user_COSINE['test_rmse'].mean()\n",
        "avg_mae_item_cosine = item_COSINE['test_mae'].mean()\n",
        "avg_rmse_item_cosine = item_COSINE['test_rmse'].mean()\n",
        "avg_mae_user_pearson = user_PEARSON['test_mae'].mean()\n",
        "avg_rmse_user_pearson = user_PEARSON['test_rmse'].mean()\n",
        "avg_mae_item_pearson = item_PEARSON['test_mae'].mean()\n",
        "avg_rmse_item_pearson = item_PEARSON['test_rmse'].mean()"
      ],
      "execution_count": 35,
      "outputs": []
    },
    {
      "cell_type": "code",
      "metadata": {
        "id": "fBEe8ctsgiuG"
      },
      "source": [
        "comp = {\n",
        "    'mae': {\n",
        "      'cosine': [avg_mae_user_cosine, avg_mae_item_cosine ],\n",
        "      'msd': [avg_mae_user_msd, avg_mae_item_msd],\n",
        "      'pearson': [avg_mae_user_pearson, avg_mae_item_pearson]\n",
        "    },\n",
        "    'rmse': {\n",
        "      'cosine': [avg_rmse_user_cosine, avg_rmse_item_cosine ],\n",
        "      'msd': [avg_rmse_user_msd, avg_rmse_item_msd],\n",
        "      'pearson': [avg_rmse_user_pearson, avg_rmse_item_pearson]\n",
        "    }\n",
        "}\n",
        "\n",
        "lables = ['USER-BASED', 'ITEM-BASED']"
      ],
      "execution_count": 37,
      "outputs": []
    },
    {
      "cell_type": "code",
      "metadata": {
        "colab": {
          "base_uri": "https://localhost:8080/",
          "height": 297
        },
        "id": "eNpiKOP8pzSW",
        "outputId": "45bcebe2-81b7-4628-8ff6-35f50404723d"
      },
      "source": [
        "x = np.arange(len(lables)) \n",
        "width = 0.2\n",
        "\n",
        "plt.bar(x-width, comp['mae']['cosine'], width)\n",
        "plt.bar(x, comp['mae']['msd'], width)\n",
        "plt.bar(x+width, comp['mae']['pearson'], width)\n",
        "plt.xticks(x, lables)\n",
        "plt.ylabel(\"MAE\")\n",
        "plt.yticks()\n",
        "plt.legend([\"COSINE\", \"MSD\", \"PEARSON\"])\n",
        "plt.tight_layout()\n",
        "plt.show()\n"
      ],
      "execution_count": 41,
      "outputs": [
        {
          "output_type": "display_data",
          "data": {
            "image/png": "[encoded data removed]",
            "text/plain": [
              "<Figure size 432x288 with 1 Axes>"
            ]
          },
          "metadata": {
            "needs_background": "light"
          }
        }
      ]
    },
    {
      "cell_type": "code",
      "metadata": {
        "colab": {
          "base_uri": "https://localhost:8080/",
          "height": 297
        },
        "id": "OkU1u8HtqeyM",
        "outputId": "c3bc003b-aac8-4991-b249-82c3dd4d16cb"
      },
      "source": [
        "x = np.arange(len(lables)) \n",
        "width = 0.2\n",
        "\n",
        "plt.bar(x-width, comp['rmse']['cosine'], width)\n",
        "plt.bar(x, comp['rmse']['msd'], width)\n",
        "plt.bar(x+width, comp['rmse']['pearson'], width)\n",
        "plt.xticks(x, lables)\n",
        "plt.ylabel(\"RMSE\")\n",
        "plt.yticks()\n",
        "plt.legend([\"COSINE\", \"MSD\", \"PEARSON\"])\n",
        "plt.tight_layout()\n",
        "plt.show()\n"
      ],
      "execution_count": 42,
      "outputs": [
        {
          "output_type": "display_data",
          "data": {
            "image/png": "[encoded data removed]",
            "text/plain": [
              "<Figure size 432x288 with 1 Axes>"
            ]
          },
          "metadata": {
            "needs_background": "light"
          }
        }
      ]
    },
    {
      "cell_type": "code",
      "metadata": {
        "colab": {
          "base_uri": "https://localhost:8080/",
          "height": 1000
        },
        "id": "8zdfvHVGqnDo",
        "outputId": "88a1a422-4b96-4a41-cf3c-27febe9f3b01"
      },
      "source": [
        "x_user = []\n",
        "rmse_user = []\n",
        "mae_user = []\n",
        "mean_min_user=10000\n",
        "for i in range(0, 20, 2):\n",
        "    knn_ucf = KNNBasic(sim_options={'user_based': True}, k=i)\n",
        "    result_user = cross_validate(knn_ucf,ratings_data , measures=['RMSE', 'MAE'], cv=5, verbose=True)\n",
        "    x_user.append(i)\n",
        "    rmse_user.append(result_user[\"test_rmse\"].mean())\n",
        "    mae_user.append(result_user[\"test_mae\"].mean())\n",
        "    curr_mean_user = result_user['test_rmse'].mean()\n",
        "    if  curr_mean_user < mean_min_user:\n",
        "      mean_min_user = curr_mean_user\n",
        "      min_k_user = i\n",
        "  \n",
        "fig, p = plt.subplots()\n",
        "p.plot(x_user, rmse_user, label=\"RMSE\")\n",
        "p.plot(x_user, mae_user, label=\"MAE\")\n",
        "p.set_xlabel(\"K\")\n",
        "p.legend()\n",
        "plt.title(\"USER-BASED CF\")\n",
        "plt.show()"
      ],
      "execution_count": 57,
      "outputs": [
        {
          "output_type": "stream",
          "name": "stdout",
          "text": [
            "Computing the msd similarity matrix...\n",
            "Done computing similarity matrix.\n",
            "Computing the msd similarity matrix...\n",
            "Done computing similarity matrix.\n",
            "Computing the msd similarity matrix...\n",
            "Done computing similarity matrix.\n",
            "Computing the msd similarity matrix...\n",
            "Done computing similarity matrix.\n",
            "Computing the msd similarity matrix...\n",
            "Done computing similarity matrix.\n",
            "Evaluating RMSE, MAE of algorithm KNNBasic on 5 split(s).\n",
            "\n",
            "                  Fold 1  Fold 2  Fold 3  Fold 4  Fold 5  Mean    Std     \n",
            "RMSE (testset)    1.0623  1.0482  1.0603  1.0574  1.0620  1.0581  0.0052  \n",
            "MAE (testset)     0.8528  0.8425  0.8513  0.8490  0.8535  0.8498  0.0040  \n",
            "Fit time          0.15    0.17    0.19    0.18    0.20    0.18    0.02    \n",
            "Test time         0.82    0.93    0.80    0.81    0.95    0.86    0.06    \n",
            "Computing the msd similarity matrix...\n",
            "Done computing similarity matrix.\n",
            "Computing the msd similarity matrix...\n",
            "Done computing similarity matrix.\n",
            "Computing the msd similarity matrix...\n",
            "Done computing similarity matrix.\n",
            "Computing the msd similarity matrix...\n",
            "Done computing similarity matrix.\n",
            "Computing the msd similarity matrix...\n",
            "Done computing similarity matrix.\n",
            "Evaluating RMSE, MAE of algorithm KNNBasic on 5 split(s).\n",
            "\n",
            "                  Fold 1  Fold 2  Fold 3  Fold 4  Fold 5  Mean    Std     \n",
            "RMSE (testset)    1.0851  1.0749  1.0625  1.0743  1.0712  1.0736  0.0073  \n",
            "MAE (testset)     0.8267  0.8218  0.8104  0.8134  0.8195  0.8184  0.0058  \n",
            "Fit time          0.15    0.17    0.25    0.17    0.20    0.19    0.03    \n",
            "Test time         1.09    1.15    1.26    1.11    1.11    1.15    0.06    \n",
            "Computing the msd similarity matrix...\n",
            "Done computing similarity matrix.\n",
            "Computing the msd similarity matrix...\n",
            "Done computing similarity matrix.\n",
            "Computing the msd similarity matrix...\n",
            "Done computing similarity matrix.\n",
            "Computing the msd similarity matrix...\n",
            "Done computing similarity matrix.\n",
            "Computing the msd similarity matrix...\n",
            "Done computing similarity matrix.\n",
            "Evaluating RMSE, MAE of algorithm KNNBasic on 5 split(s).\n",
            "\n",
            "                  Fold 1  Fold 2  Fold 3  Fold 4  Fold 5  Mean    Std     \n",
            "RMSE (testset)    0.9982  0.9985  0.9898  0.9950  1.0116  0.9986  0.0072  \n",
            "MAE (testset)     0.7642  0.7628  0.7583  0.7612  0.7713  0.7635  0.0043  \n",
            "Fit time          0.13    0.18    0.18    0.20    0.19    0.18    0.02    \n",
            "Test time         1.34    1.19    1.28    1.28    1.20    1.26    0.06    \n",
            "Computing the msd similarity matrix...\n",
            "Done computing similarity matrix.\n",
            "Computing the msd similarity matrix...\n",
            "Done computing similarity matrix.\n",
            "Computing the msd similarity matrix...\n",
            "Done computing similarity matrix.\n",
            "Computing the msd similarity matrix...\n",
            "Done computing similarity matrix.\n",
            "Computing the msd similarity matrix...\n",
            "Done computing similarity matrix.\n",
            "Evaluating RMSE, MAE of algorithm KNNBasic on 5 split(s).\n",
            "\n",
            "                  Fold 1  Fold 2  Fold 3  Fold 4  Fold 5  Mean    Std     \n",
            "RMSE (testset)    0.9783  0.9713  0.9820  0.9842  0.9780  0.9788  0.0044  \n",
            "MAE (testset)     0.7509  0.7430  0.7517  0.7523  0.7475  0.7491  0.0035  \n",
            "Fit time          0.22    0.18    0.19    0.18    0.19    0.19    0.01    \n",
            "Test time         1.40    1.30    1.28    1.34    1.36    1.34    0.04    \n",
            "Computing the msd similarity matrix...\n",
            "Done computing similarity matrix.\n",
            "Computing the msd similarity matrix...\n",
            "Done computing similarity matrix.\n",
            "Computing the msd similarity matrix...\n",
            "Done computing similarity matrix.\n",
            "Computing the msd similarity matrix...\n",
            "Done computing similarity matrix.\n",
            "Computing the msd similarity matrix...\n",
            "Done computing similarity matrix.\n",
            "Evaluating RMSE, MAE of algorithm KNNBasic on 5 split(s).\n",
            "\n",
            "                  Fold 1  Fold 2  Fold 3  Fold 4  Fold 5  Mean    Std     \n",
            "RMSE (testset)    0.9640  0.9723  0.9722  0.9662  0.9782  0.9706  0.0050  \n",
            "MAE (testset)     0.7357  0.7415  0.7433  0.7398  0.7474  0.7415  0.0039  \n",
            "Fit time          0.13    0.17    0.20    0.17    0.18    0.17    0.02    \n",
            "Test time         1.31    1.40    1.44    1.32    1.40    1.37    0.05    \n",
            "Computing the msd similarity matrix...\n",
            "Done computing similarity matrix.\n",
            "Computing the msd similarity matrix...\n",
            "Done computing similarity matrix.\n",
            "Computing the msd similarity matrix...\n",
            "Done computing similarity matrix.\n",
            "Computing the msd similarity matrix...\n",
            "Done computing similarity matrix.\n",
            "Computing the msd similarity matrix...\n",
            "Done computing similarity matrix.\n",
            "Evaluating RMSE, MAE of algorithm KNNBasic on 5 split(s).\n",
            "\n",
            "                  Fold 1  Fold 2  Fold 3  Fold 4  Fold 5  Mean    Std     \n",
            "RMSE (testset)    0.9627  0.9662  0.9589  0.9669  0.9766  0.9662  0.0059  \n",
            "MAE (testset)     0.7367  0.7394  0.7319  0.7388  0.7475  0.7389  0.0051  \n",
            "Fit time          0.14    0.17    0.18    0.18    0.18    0.17    0.01    \n",
            "Test time         1.36    1.37    1.48    1.43    1.37    1.40    0.05    \n",
            "Computing the msd similarity matrix...\n",
            "Done computing similarity matrix.\n",
            "Computing the msd similarity matrix...\n",
            "Done computing similarity matrix.\n",
            "Computing the msd similarity matrix...\n",
            "Done computing similarity matrix.\n",
            "Computing the msd similarity matrix...\n",
            "Done computing similarity matrix.\n",
            "Computing the msd similarity matrix...\n",
            "Done computing similarity matrix.\n",
            "Evaluating RMSE, MAE of algorithm KNNBasic on 5 split(s).\n",
            "\n",
            "                  Fold 1  Fold 2  Fold 3  Fold 4  Fold 5  Mean    Std     \n",
            "RMSE (testset)    0.9706  0.9588  0.9586  0.9619  0.9618  0.9623  0.0043  \n",
            "MAE (testset)     0.7407  0.7366  0.7347  0.7371  0.7329  0.7364  0.0026  \n",
            "Fit time          0.15    0.18    0.18    0.18    0.19    0.17    0.01    \n",
            "Test time         1.71    1.71    1.41    1.55    1.53    1.58    0.11    \n",
            "Computing the msd similarity matrix...\n",
            "Done computing similarity matrix.\n",
            "Computing the msd similarity matrix...\n",
            "Done computing similarity matrix.\n",
            "Computing the msd similarity matrix...\n",
            "Done computing similarity matrix.\n",
            "Computing the msd similarity matrix...\n",
            "Done computing similarity matrix.\n",
            "Computing the msd similarity matrix...\n",
            "Done computing similarity matrix.\n",
            "Evaluating RMSE, MAE of algorithm KNNBasic on 5 split(s).\n",
            "\n",
            "                  Fold 1  Fold 2  Fold 3  Fold 4  Fold 5  Mean    Std     \n",
            "RMSE (testset)    0.9620  0.9624  0.9622  0.9653  0.9645  0.9633  0.0013  \n",
            "MAE (testset)     0.7392  0.7337  0.7373  0.7396  0.7398  0.7379  0.0023  \n",
            "Fit time          0.15    0.17    0.18    0.18    0.19    0.17    0.01    \n",
            "Test time         1.47    1.57    1.58    1.48    1.59    1.54    0.05    \n",
            "Computing the msd similarity matrix...\n",
            "Done computing similarity matrix.\n",
            "Computing the msd similarity matrix...\n",
            "Done computing similarity matrix.\n",
            "Computing the msd similarity matrix...\n",
            "Done computing similarity matrix.\n",
            "Computing the msd similarity matrix...\n",
            "Done computing similarity matrix.\n",
            "Computing the msd similarity matrix...\n",
            "Done computing similarity matrix.\n",
            "Evaluating RMSE, MAE of algorithm KNNBasic on 5 split(s).\n",
            "\n",
            "                  Fold 1  Fold 2  Fold 3  Fold 4  Fold 5  Mean    Std     \n",
            "RMSE (testset)    0.9608  0.9605  0.9565  0.9706  0.9688  0.9634  0.0054  \n",
            "MAE (testset)     0.7369  0.7345  0.7320  0.7418  0.7432  0.7377  0.0043  \n",
            "Fit time          0.16    0.19    0.19    0.20    0.18    0.18    0.01    \n",
            "Test time         1.53    1.49    1.68    1.61    1.50    1.56    0.07    \n",
            "Computing the msd similarity matrix...\n",
            "Done computing similarity matrix.\n",
            "Computing the msd similarity matrix...\n",
            "Done computing similarity matrix.\n",
            "Computing the msd similarity matrix...\n",
            "Done computing similarity matrix.\n",
            "Computing the msd similarity matrix...\n",
            "Done computing similarity matrix.\n",
            "Computing the msd similarity matrix...\n",
            "Done computing similarity matrix.\n",
            "Evaluating RMSE, MAE of algorithm KNNBasic on 5 split(s).\n",
            "\n",
            "                  Fold 1  Fold 2  Fold 3  Fold 4  Fold 5  Mean    Std     \n",
            "RMSE (testset)    0.9506  0.9691  0.9684  0.9628  0.9681  0.9638  0.0070  \n",
            "MAE (testset)     0.7282  0.7453  0.7430  0.7355  0.7397  0.7384  0.0061  \n",
            "Fit time          0.15    0.17    0.19    0.19    0.18    0.18    0.02    \n",
            "Test time         1.65    1.54    1.54    1.64    1.72    1.62    0.07    \n"
          ]
        },
        {
          "output_type": "display_data",
          "data": {
            "image/png": "[encoded data removed]",
            "text/plain": [
              "<Figure size 432x288 with 1 Axes>"
            ]
          },
          "metadata": {
            "needs_background": "light"
          }
        }
      ]
    },
    {
      "cell_type": "code",
      "metadata": {
        "colab": {
          "base_uri": "https://localhost:8080/",
          "height": 1000
        },
        "id": "eYnW4q8D0NXw",
        "outputId": "b7a97ffc-0f58-4652-fffb-0bc26a1c90b9"
      },
      "source": [
        "x_item = []\n",
        "rmse_item = []\n",
        "mae_item = []\n",
        "mean_min_item=10000\n",
        "for i in range(0, 20, 2):\n",
        "    knn_Icf = KNNBasic(sim_options={'user_based': False}, k=i)\n",
        "    result_item = cross_validate(knn_Icf,ratings_data , measures=['RMSE', 'MAE'], cv=5, verbose=True)\n",
        "    x_item.append(i)\n",
        "    rmse_item.append(result_item[\"test_rmse\"].mean())\n",
        "    mae_item.append(result_item[\"test_mae\"].mean())\n",
        "    curr_mean_item = result_item['test_rmse'].mean()\n",
        "    if  curr_mean_item < mean_min_item:\n",
        "      mean_min_item = curr_mean_item\n",
        "      min_k_item = i\n",
        "   \n",
        "fig, p = plt.subplots()\n",
        "p.plot(x_item, rmse_item, label=\"RMSE\")\n",
        "p.plot(x_item, mae_item, label=\"MAE\")\n",
        "p.set_xlabel(\"K\")\n",
        "p.legend()\n",
        "plt.title(\"Item Based CF\")\n",
        "plt.show()"
      ],
      "execution_count": 58,
      "outputs": [
        {
          "output_type": "stream",
          "name": "stdout",
          "text": [
            "Computing the msd similarity matrix...\n",
            "Done computing similarity matrix.\n",
            "Computing the msd similarity matrix...\n",
            "Done computing similarity matrix.\n",
            "Computing the msd similarity matrix...\n",
            "Done computing similarity matrix.\n",
            "Computing the msd similarity matrix...\n",
            "Done computing similarity matrix.\n",
            "Computing the msd similarity matrix...\n",
            "Done computing similarity matrix.\n",
            "Evaluating RMSE, MAE of algorithm KNNBasic on 5 split(s).\n",
            "\n",
            "                  Fold 1  Fold 2  Fold 3  Fold 4  Fold 5  Mean    Std     \n",
            "RMSE (testset)    1.0569  1.0624  1.0552  1.0594  1.0564  1.0581  0.0025  \n",
            "MAE (testset)     0.8482  0.8544  0.8480  0.8513  0.8471  0.8498  0.0027  \n",
            "Fit time          4.34    4.28    4.60    4.44    4.20    4.37    0.14    \n",
            "Test time         5.04    5.04    5.07    5.12    4.96    5.04    0.05    \n",
            "Computing the msd similarity matrix...\n",
            "Done computing similarity matrix.\n",
            "Computing the msd similarity matrix...\n",
            "Done computing similarity matrix.\n",
            "Computing the msd similarity matrix...\n",
            "Done computing similarity matrix.\n",
            "Computing the msd similarity matrix...\n",
            "Done computing similarity matrix.\n",
            "Computing the msd similarity matrix...\n",
            "Done computing similarity matrix.\n",
            "Evaluating RMSE, MAE of algorithm KNNBasic on 5 split(s).\n",
            "\n",
            "                  Fold 1  Fold 2  Fold 3  Fold 4  Fold 5  Mean    Std     \n",
            "RMSE (testset)    1.1434  1.1526  1.1394  1.1527  1.1515  1.1479  0.0055  \n",
            "MAE (testset)     0.8725  0.8797  0.8666  0.8790  0.8772  0.8750  0.0049  \n",
            "Fit time          4.47    4.51    4.16    4.18    4.53    4.37    0.16    \n",
            "Test time         6.52    6.60    6.46    6.60    6.68    6.57    0.07    \n",
            "Computing the msd similarity matrix...\n",
            "Done computing similarity matrix.\n",
            "Computing the msd similarity matrix...\n",
            "Done computing similarity matrix.\n",
            "Computing the msd similarity matrix...\n",
            "Done computing similarity matrix.\n",
            "Computing the msd similarity matrix...\n",
            "Done computing similarity matrix.\n",
            "Computing the msd similarity matrix...\n",
            "Done computing similarity matrix.\n",
            "Evaluating RMSE, MAE of algorithm KNNBasic on 5 split(s).\n",
            "\n",
            "                  Fold 1  Fold 2  Fold 3  Fold 4  Fold 5  Mean    Std     \n",
            "RMSE (testset)    1.0348  1.0459  1.0376  1.0543  1.0544  1.0454  0.0082  \n",
            "MAE (testset)     0.7987  0.8106  0.8014  0.8131  0.8106  0.8069  0.0057  \n",
            "Fit time          4.13    4.20    4.49    4.31    4.65    4.36    0.19    \n",
            "Test time         6.58    6.65    6.60    6.60    6.69    6.62    0.04    \n",
            "Computing the msd similarity matrix...\n",
            "Done computing similarity matrix.\n",
            "Computing the msd similarity matrix...\n",
            "Done computing similarity matrix.\n",
            "Computing the msd similarity matrix...\n",
            "Done computing similarity matrix.\n",
            "Computing the msd similarity matrix...\n",
            "Done computing similarity matrix.\n",
            "Computing the msd similarity matrix...\n",
            "Done computing similarity matrix.\n",
            "Evaluating RMSE, MAE of algorithm KNNBasic on 5 split(s).\n",
            "\n",
            "                  Fold 1  Fold 2  Fold 3  Fold 4  Fold 5  Mean    Std     \n",
            "RMSE (testset)    1.0098  1.0115  1.0054  1.0073  1.0075  1.0083  0.0021  \n",
            "MAE (testset)     0.7822  0.7814  0.7779  0.7763  0.7804  0.7796  0.0022  \n",
            "Fit time          3.98    4.31    3.93    4.10    4.18    4.10    0.14    \n",
            "Test time         6.56    6.76    6.58    6.94    6.65    6.70    0.14    \n",
            "Computing the msd similarity matrix...\n",
            "Done computing similarity matrix.\n",
            "Computing the msd similarity matrix...\n",
            "Done computing similarity matrix.\n",
            "Computing the msd similarity matrix...\n",
            "Done computing similarity matrix.\n",
            "Computing the msd similarity matrix...\n",
            "Done computing similarity matrix.\n",
            "Computing the msd similarity matrix...\n",
            "Done computing similarity matrix.\n",
            "Evaluating RMSE, MAE of algorithm KNNBasic on 5 split(s).\n",
            "\n",
            "                  Fold 1  Fold 2  Fold 3  Fold 4  Fold 5  Mean    Std     \n",
            "RMSE (testset)    0.9837  0.9932  0.9855  0.9862  0.9881  0.9873  0.0033  \n",
            "MAE (testset)     0.7597  0.7678  0.7627  0.7613  0.7652  0.7633  0.0029  \n",
            "Fit time          4.05    4.28    4.46    4.25    4.45    4.30    0.15    \n",
            "Test time         6.60    6.84    6.68    6.80    6.77    6.74    0.09    \n",
            "Computing the msd similarity matrix...\n",
            "Done computing similarity matrix.\n",
            "Computing the msd similarity matrix...\n",
            "Done computing similarity matrix.\n",
            "Computing the msd similarity matrix...\n",
            "Done computing similarity matrix.\n",
            "Computing the msd similarity matrix...\n",
            "Done computing similarity matrix.\n",
            "Computing the msd similarity matrix...\n",
            "Done computing similarity matrix.\n",
            "Evaluating RMSE, MAE of algorithm KNNBasic on 5 split(s).\n",
            "\n",
            "                  Fold 1  Fold 2  Fold 3  Fold 4  Fold 5  Mean    Std     \n",
            "RMSE (testset)    0.9808  0.9776  0.9776  0.9712  0.9689  0.9752  0.0044  \n",
            "MAE (testset)     0.7594  0.7577  0.7581  0.7526  0.7485  0.7553  0.0041  \n",
            "Fit time          4.33    4.45    4.37    4.15    4.41    4.34    0.10    \n",
            "Test time         6.91    6.98    7.10    6.82    7.05    6.97    0.10    \n",
            "Computing the msd similarity matrix...\n",
            "Done computing similarity matrix.\n",
            "Computing the msd similarity matrix...\n",
            "Done computing similarity matrix.\n",
            "Computing the msd similarity matrix...\n",
            "Done computing similarity matrix.\n",
            "Computing the msd similarity matrix...\n",
            "Done computing similarity matrix.\n",
            "Computing the msd similarity matrix...\n",
            "Done computing similarity matrix.\n",
            "Evaluating RMSE, MAE of algorithm KNNBasic on 5 split(s).\n",
            "\n",
            "                  Fold 1  Fold 2  Fold 3  Fold 4  Fold 5  Mean    Std     \n",
            "RMSE (testset)    0.9692  0.9584  0.9650  0.9715  0.9621  0.9652  0.0047  \n",
            "MAE (testset)     0.7465  0.7424  0.7476  0.7504  0.7428  0.7459  0.0030  \n",
            "Fit time          4.01    4.47    4.39    4.57    4.51    4.39    0.20    \n",
            "Test time         6.84    7.60    7.22    6.94    7.17    7.16    0.26    \n",
            "Computing the msd similarity matrix...\n",
            "Done computing similarity matrix.\n",
            "Computing the msd similarity matrix...\n",
            "Done computing similarity matrix.\n",
            "Computing the msd similarity matrix...\n",
            "Done computing similarity matrix.\n",
            "Computing the msd similarity matrix...\n",
            "Done computing similarity matrix.\n",
            "Computing the msd similarity matrix...\n",
            "Done computing similarity matrix.\n",
            "Evaluating RMSE, MAE of algorithm KNNBasic on 5 split(s).\n",
            "\n",
            "                  Fold 1  Fold 2  Fold 3  Fold 4  Fold 5  Mean    Std     \n",
            "RMSE (testset)    0.9579  0.9677  0.9590  0.9535  0.9611  0.9599  0.0046  \n",
            "MAE (testset)     0.7383  0.7483  0.7421  0.7360  0.7454  0.7420  0.0045  \n",
            "Fit time          4.12    4.29    3.92    4.29    4.28    4.18    0.15    \n",
            "Test time         7.20    7.02    7.18    7.21    7.11    7.15    0.07    \n",
            "Computing the msd similarity matrix...\n",
            "Done computing similarity matrix.\n",
            "Computing the msd similarity matrix...\n",
            "Done computing similarity matrix.\n",
            "Computing the msd similarity matrix...\n",
            "Done computing similarity matrix.\n",
            "Computing the msd similarity matrix...\n",
            "Done computing similarity matrix.\n",
            "Computing the msd similarity matrix...\n",
            "Done computing similarity matrix.\n",
            "Evaluating RMSE, MAE of algorithm KNNBasic on 5 split(s).\n",
            "\n",
            "                  Fold 1  Fold 2  Fold 3  Fold 4  Fold 5  Mean    Std     \n",
            "RMSE (testset)    0.9557  0.9559  0.9557  0.9588  0.9508  0.9554  0.0026  \n",
            "MAE (testset)     0.7394  0.7387  0.7374  0.7425  0.7333  0.7383  0.0030  \n",
            "Fit time          4.06    4.22    4.68    4.74    4.40    4.42    0.26    \n",
            "Test time         7.26    7.39    7.04    7.11    7.25    7.21    0.12    \n",
            "Computing the msd similarity matrix...\n",
            "Done computing similarity matrix.\n",
            "Computing the msd similarity matrix...\n",
            "Done computing similarity matrix.\n",
            "Computing the msd similarity matrix...\n",
            "Done computing similarity matrix.\n",
            "Computing the msd similarity matrix...\n",
            "Done computing similarity matrix.\n",
            "Computing the msd similarity matrix...\n",
            "Done computing similarity matrix.\n",
            "Evaluating RMSE, MAE of algorithm KNNBasic on 5 split(s).\n",
            "\n",
            "                  Fold 1  Fold 2  Fold 3  Fold 4  Fold 5  Mean    Std     \n",
            "RMSE (testset)    0.9561  0.9417  0.9468  0.9524  0.9575  0.9509  0.0059  \n",
            "MAE (testset)     0.7392  0.7268  0.7304  0.7372  0.7410  0.7349  0.0054  \n",
            "Fit time          4.06    4.33    4.33    4.48    3.99    4.24    0.18    \n",
            "Test time         7.21    7.29    7.64    7.19    7.19    7.31    0.17    \n"
          ]
        },
        {
          "output_type": "display_data",
          "data": {
            "image/png": "[encoded data removed]",
            "text/plain": [
              "<Figure size 432x288 with 1 Axes>"
            ]
          },
          "metadata": {
            "needs_background": "light"
          }
        }
      ]
    },
    {
      "cell_type": "code",
      "metadata": {
        "colab": {
          "base_uri": "https://localhost:8080/"
        },
        "id": "3MJm9qLA911z",
        "outputId": "c3b76a07-45cc-4de4-938d-e9a8aeba6a34"
      },
      "source": [
        "print(f'The k value for  minimum mean of RMSE for user based filter is {min_k_user}')\n",
        "print(f'The k value for  minimum mean of RMSE for item based filter is {min_k_item}')"
      ],
      "execution_count": 63,
      "outputs": [
        {
          "output_type": "stream",
          "name": "stdout",
          "text": [
            "The k value for  minimum mean of RMSE for user based filter is 12\n",
            "The k value for  minimum mean of RMSE for item based filter is 18\n"
          ]
        }
      ]
    }
  ]
}