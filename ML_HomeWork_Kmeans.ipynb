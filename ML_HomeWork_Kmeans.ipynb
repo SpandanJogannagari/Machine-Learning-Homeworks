{
  "nbformat": 4,
  "nbformat_minor": 0,
  "metadata": {
    "colab": {
      "name": "ML_HomeWork_Kmeans.ipynb",
      "provenance": [],
      "collapsed_sections": [],
      "authorship_tag": "ABX9TyNiMpCnkoOSseoRivXgh5v9",
      "include_colab_link": true
    },
    "kernelspec": {
      "name": "python3",
      "display_name": "Python 3"
    },
    "language_info": {
      "name": "python"
    }
  },
  "cells": [
    {
      "cell_type": "markdown",
      "metadata": {
        "id": "view-in-github",
        "colab_type": "text"
      },
      "source": [
        "<a href=\"https://colab.research.google.com/github/SpandanJogannagari/Machine-Learning-Homeworks/blob/main/ML_HomeWork_Kmeans.ipynb\" target=\"_parent\"><img src=\"https://colab.research.google.com/assets/colab-badge.svg\" alt=\"Open In Colab\"/></a>"
      ]
    },
    {
      "cell_type": "code",
      "metadata": {
        "id": "R2Cr8uXPnatu"
      },
      "source": [
        "import pandas as pd\n",
        "import numpy as np\n",
        "import seaborn as sns;\n",
        "from scipy.spatial import distance\n",
        "from sklearn.preprocessing import StandardScaler\n",
        "import time\n",
        "import math\n",
        "import random\n",
        "sns.set()  # for plot styling\n",
        "from collections import defaultdict\n",
        "from numpy import dot\n",
        "from numpy.linalg import norm\n",
        "import matplotlib.pyplot as plt"
      ],
      "execution_count": null,
      "outputs": []
    },
    {
      "cell_type": "markdown",
      "metadata": {
        "id": "SbZAtmLfxqmn"
      },
      "source": [
        "Task 1"
      ]
    },
    {
      "cell_type": "code",
      "metadata": {
        "id": "afaI2TR7xnph"
      },
      "source": [
        "data=[ [3, 5], [3, 4],  [2, 8], [2, 3],  [6, 2], [6, 4], [7, 3], [7, 4], [8, 5], [7, 6] ]"
      ],
      "execution_count": null,
      "outputs": []
    },
    {
      "cell_type": "code",
      "metadata": {
        "id": "vNsJGkBo0sVD"
      },
      "source": [
        "#defining a function to calculate eucledine distance\n",
        "\n",
        "def euc_dist(p1,p2):\n",
        "  dist=0\n",
        "  for a,b in zip(p1, p2):\n",
        "    dist += pow((a-b), 2)\n",
        "  return math.sqrt(dist)\n",
        "\n",
        "def manhat_dist(p1,p2):\n",
        "  dist=0\n",
        "  for a,b in zip(p1,p2):\n",
        "    dist +=abs(a-b)\n",
        "  return dist\n",
        "\n",
        "def cosine_sim(p1, p2):\n",
        "  A = np.array(p1)\n",
        "  B = np.array(p2)\n",
        "  dist = 1 - np.dot(A,B)/(np.linalg.norm(A)*np.linalg.norm(B))\n",
        "  return dist\n",
        "\n",
        "def jaccard(p1, p2):\n",
        "    return 1 - (np.sum(np.minimum(p1,p2), axis = 0)/np.sum(np.maximum(p1, p2), axis = 0))\n",
        "\n",
        "def calculate_centroid(cluster):\n",
        "  n = len(cluster[0])\n",
        "  if isinstance(cluster[0][-1], str):\n",
        "    centroid = [0]*(n-1)\n",
        "\n",
        "    for i in range(n-1):\n",
        "      for point in cluster:\n",
        "        centroid[i] += point[i]\n",
        "      centroid[i] = centroid[i]/len(cluster)\n",
        "  else:\n",
        "    centroid = [0]*n\n",
        "\n",
        "    for i in range(n):\n",
        "      for point in cluster:\n",
        "        centroid[i] += point[i]\n",
        "      centroid[i] = centroid[i]/len(cluster)\n",
        "  return centroid\n"
      ],
      "execution_count": null,
      "outputs": []
    },
    {
      "cell_type": "code",
      "metadata": {
        "id": "e6bqN_oeCCXF"
      },
      "source": [
        "class KMeans:\n",
        "  def __init__(self, n_clusters=2, max_iters=300, init_centroids=None, d_func=euc_dist, show_first_centroid=False):\n",
        "    self.n_clusters = n_clusters\n",
        "    self.max_iters = max_iters\n",
        "    self.init_centroids = init_centroids\n",
        "    self.d_func = d_func\n",
        "    self.show_first_centroid = show_first_centroid\n",
        "\n",
        "  def fit(self, data):\n",
        "       \n",
        "    for loop in range(self.max_iters): \n",
        "      clusters = defaultdict(list)\n",
        "      for point in data:\n",
        "        temp_centroid = -1\n",
        "        min_dist = 99999999\n",
        "        for i, centroid in enumerate(self.init_centroids):\n",
        "          if isinstance(point[-1], str):\n",
        "            d = self.d_func(point[:-1], centroid)\n",
        "          else:\n",
        "            d = self.d_func(point, centroid)\n",
        "          if d < min_dist:\n",
        "            temp_centroid = i\n",
        "            min_dist = d\n",
        "        \n",
        "        clusters[temp_centroid].append(point)\n",
        "\n",
        "      prev_centroids = self.init_centroids.copy()\n",
        "      # Now, recalculating the centroids\n",
        "      for key in clusters.keys():\n",
        "        cluster = clusters[key]\n",
        "        self.init_centroids[key] = calculate_centroid(cluster)\n",
        "\n",
        "      if loop == 1 and self.show_first_centroid == True:\n",
        "        print(\"Centroids after first iteration: \", self.init_centroids)\n",
        "\n",
        "    print(\"Number of iterations:\", loop)\n",
        "    return [self.init_centroids, clusters]\n"
      ],
      "execution_count": null,
      "outputs": []
    },
    {
      "cell_type": "code",
      "metadata": {
        "colab": {
          "base_uri": "https://localhost:8080/"
        },
        "id": "iySHL8e3rbYc",
        "outputId": "bf69722a-3ceb-432b-e40d-65781473d3e3"
      },
      "source": [
        "kmeans = KMeans(n_clusters=2, init_centroids=[[4, 6],[5, 4]], d_func=manhat_dist, show_first_centroid=True)\n",
        "[centroid_centers, clusters] = kmeans.fit(data)\n",
        "\n",
        "for key in clusters:\n",
        "  print(\"Final Cluster\", key+1, \":\", clusters[key])\n"
      ],
      "execution_count": null,
      "outputs": [
        {
          "output_type": "stream",
          "name": "stdout",
          "text": [
            "Centroids after first iteration:  [[4.0, 6.333333333333333], [5.571428571428571, 3.5714285714285716]]\n",
            "Number of iterations: 299\n",
            "Final Cluster 1 : [[3, 5], [2, 8], [7, 6]]\n",
            "Final Cluster 2 : [[3, 4], [2, 3], [6, 2], [6, 4], [7, 3], [7, 4], [8, 5]]\n"
          ]
        }
      ]
    },
    {
      "cell_type": "code",
      "metadata": {
        "colab": {
          "base_uri": "https://localhost:8080/"
        },
        "id": "tfAdojToto2L",
        "outputId": "e9a70fb9-a4fb-4a40-f8d2-99bc309465a5"
      },
      "source": [
        "kmeans = KMeans(n_clusters=2, init_centroids=[[4, 6],[5, 4]], d_func=euc_dist, show_first_centroid=True)\n",
        "[centroid_centers, clusters] = kmeans.fit(data)\n",
        "\n",
        "for key in clusters:\n",
        "  print(\"Final Cluster\", key+1, \":\", clusters[key])\n",
        "\n"
      ],
      "execution_count": null,
      "outputs": [
        {
          "output_type": "stream",
          "name": "stdout",
          "text": [
            "Centroids after first iteration:  [[2.5, 5.0], [6.833333333333333, 4.0]]\n",
            "Number of iterations: 299\n",
            "Final Cluster 1 : [[3, 5], [3, 4], [2, 8], [2, 3]]\n",
            "Final Cluster 2 : [[6, 2], [6, 4], [7, 3], [7, 4], [8, 5], [7, 6]]\n"
          ]
        }
      ]
    },
    {
      "cell_type": "code",
      "metadata": {
        "colab": {
          "base_uri": "https://localhost:8080/"
        },
        "id": "BcWdPhQat5bt",
        "outputId": "96d6ccd9-5dea-4d08-80bb-24bb82281308"
      },
      "source": [
        "kmeans = KMeans(n_clusters=2, init_centroids=[[3, 3], [8, 3]], d_func=manhat_dist, show_first_centroid=True)\n",
        "[centroid_centers, clusters] = kmeans.fit(data)\n",
        "\n",
        "for key in clusters:\n",
        "  print(\"Final Cluster\", key+1, \":\", clusters[key])\n",
        "\n"
      ],
      "execution_count": null,
      "outputs": [
        {
          "output_type": "stream",
          "name": "stdout",
          "text": [
            "Centroids after first iteration:  [[2.5, 5.0], [6.833333333333333, 4.0]]\n",
            "Number of iterations: 299\n",
            "Final Cluster 1 : [[3, 5], [3, 4], [2, 8], [2, 3]]\n",
            "Final Cluster 2 : [[6, 2], [6, 4], [7, 3], [7, 4], [8, 5], [7, 6]]\n"
          ]
        }
      ]
    },
    {
      "cell_type": "code",
      "metadata": {
        "colab": {
          "base_uri": "https://localhost:8080/"
        },
        "id": "M2iBZmAd5Xvw",
        "outputId": "df5ca531-44cc-439e-83ba-31c76b78d294"
      },
      "source": [
        "\n",
        "kmeans = KMeans(n_clusters=2, init_centroids=[[3, 2], [4, 8]], d_func=manhat_dist, show_first_centroid=True)\n",
        "[centroid_centers, clusters] = kmeans.fit(data)\n",
        "\n",
        "for key in clusters:\n",
        "  print(\"Final Cluster\", key+1, \":\", clusters[key])\n",
        "\n"
      ],
      "execution_count": null,
      "outputs": [
        {
          "output_type": "stream",
          "name": "stdout",
          "text": [
            "Centroids after first iteration:  [[4.857142857142857, 3.5714285714285716], [5.666666666666667, 6.333333333333333]]\n",
            "Number of iterations: 299\n",
            "Final Cluster 1 : [[3, 5], [3, 4], [2, 3], [6, 2], [6, 4], [7, 3], [7, 4]]\n",
            "Final Cluster 2 : [[2, 8], [8, 5], [7, 6]]\n"
          ]
        }
      ]
    },
    {
      "cell_type": "code",
      "metadata": {
        "colab": {
          "base_uri": "https://localhost:8080/"
        },
        "id": "1xxd-obr5hiA",
        "outputId": "de838bda-c3be-478a-fd49-4936faa051f8"
      },
      "source": [
        "points = [(4.7, 3.2), (4.9, 3.1), (5.0, 3.0), (4.6, 2.9), (5.9, 3.2), (6.7, 3.1), (6.0, 3.0), (6.2, 2.8)]\n",
        "\n",
        "new_dists = []\n",
        "d = 0\n",
        "for i in range(len(points)):\n",
        "  for j in range(len(points)):\n",
        "    if i != j:\n",
        "      new_dists.append([euc_dist(points[i], points[j]), [points[i], points[j]]])\n",
        "      d += new_dists[-1][0]\n",
        "\n",
        "new_dists.sort()\n",
        "new_dists"
      ],
      "execution_count": null,
      "outputs": [
        {
          "output_type": "execute_result",
          "data": {
            "text/plain": [
              "[[0.1414213562373093, [(4.9, 3.1), (5.0, 3.0)]],\n",
              " [0.1414213562373093, [(5.0, 3.0), (4.9, 3.1)]],\n",
              " [0.22360679774997896, [(5.9, 3.2), (6.0, 3.0)]],\n",
              " [0.22360679774997896, [(6.0, 3.0), (5.9, 3.2)]],\n",
              " [0.22360679774997916, [(4.7, 3.2), (4.9, 3.1)]],\n",
              " [0.22360679774997916, [(4.9, 3.1), (4.7, 3.2)]],\n",
              " [0.2828427124746193, [(6.0, 3.0), (6.2, 2.8)]],\n",
              " [0.2828427124746193, [(6.2, 2.8), (6.0, 3.0)]],\n",
              " [0.3162277660168384, [(4.6, 2.9), (4.7, 3.2)]],\n",
              " [0.3162277660168384, [(4.7, 3.2), (4.6, 2.9)]],\n",
              " [0.3605551275463989, [(4.7, 3.2), (5.0, 3.0)]],\n",
              " [0.3605551275463989, [(5.0, 3.0), (4.7, 3.2)]],\n",
              " [0.3605551275463996, [(4.6, 2.9), (4.9, 3.1)]],\n",
              " [0.3605551275463996, [(4.9, 3.1), (4.6, 2.9)]],\n",
              " [0.4123105625617664, [(4.6, 2.9), (5.0, 3.0)]],\n",
              " [0.4123105625617664, [(5.0, 3.0), (4.6, 2.9)]],\n",
              " [0.5000000000000001, [(5.9, 3.2), (6.2, 2.8)]],\n",
              " [0.5000000000000001, [(6.2, 2.8), (5.9, 3.2)]],\n",
              " [0.5830951894845302, [(6.2, 2.8), (6.7, 3.1)]],\n",
              " [0.5830951894845302, [(6.7, 3.1), (6.2, 2.8)]],\n",
              " [0.7071067811865478, [(6.0, 3.0), (6.7, 3.1)]],\n",
              " [0.7071067811865478, [(6.7, 3.1), (6.0, 3.0)]],\n",
              " [0.8062257748298548, [(5.9, 3.2), (6.7, 3.1)]],\n",
              " [0.8062257748298548, [(6.7, 3.1), (5.9, 3.2)]],\n",
              " [0.9219544457292891, [(5.0, 3.0), (5.9, 3.2)]],\n",
              " [0.9219544457292891, [(5.9, 3.2), (5.0, 3.0)]],\n",
              " [1.0, [(5.0, 3.0), (6.0, 3.0)]],\n",
              " [1.0, [(6.0, 3.0), (5.0, 3.0)]],\n",
              " [1.004987562112089, [(4.9, 3.1), (5.9, 3.2)]],\n",
              " [1.004987562112089, [(5.9, 3.2), (4.9, 3.1)]],\n",
              " [1.1045361017187258, [(4.9, 3.1), (6.0, 3.0)]],\n",
              " [1.1045361017187258, [(6.0, 3.0), (4.9, 3.1)]],\n",
              " [1.2000000000000002, [(4.7, 3.2), (5.9, 3.2)]],\n",
              " [1.2000000000000002, [(5.9, 3.2), (4.7, 3.2)]],\n",
              " [1.216552506059644, [(5.0, 3.0), (6.2, 2.8)]],\n",
              " [1.216552506059644, [(6.2, 2.8), (5.0, 3.0)]],\n",
              " [1.3152946437965904, [(4.7, 3.2), (6.0, 3.0)]],\n",
              " [1.3152946437965904, [(6.0, 3.0), (4.7, 3.2)]],\n",
              " [1.3341664064126333, [(4.9, 3.1), (6.2, 2.8)]],\n",
              " [1.3341664064126333, [(6.2, 2.8), (4.9, 3.1)]],\n",
              " [1.3341664064126342, [(4.6, 2.9), (5.9, 3.2)]],\n",
              " [1.3341664064126342, [(5.9, 3.2), (4.6, 2.9)]],\n",
              " [1.4035668847618203, [(4.6, 2.9), (6.0, 3.0)]],\n",
              " [1.4035668847618203, [(6.0, 3.0), (4.6, 2.9)]],\n",
              " [1.5524174696260025, [(4.7, 3.2), (6.2, 2.8)]],\n",
              " [1.5524174696260025, [(6.2, 2.8), (4.7, 3.2)]],\n",
              " [1.6031219541881403, [(4.6, 2.9), (6.2, 2.8)]],\n",
              " [1.6031219541881403, [(6.2, 2.8), (4.6, 2.9)]],\n",
              " [1.7029386365926404, [(5.0, 3.0), (6.7, 3.1)]],\n",
              " [1.7029386365926404, [(6.7, 3.1), (5.0, 3.0)]],\n",
              " [1.7999999999999998, [(4.9, 3.1), (6.7, 3.1)]],\n",
              " [1.7999999999999998, [(6.7, 3.1), (4.9, 3.1)]],\n",
              " [2.0024984394500787, [(4.7, 3.2), (6.7, 3.1)]],\n",
              " [2.0024984394500787, [(6.7, 3.1), (4.7, 3.2)]],\n",
              " [2.109502310972899, [(4.6, 2.9), (6.7, 3.1)]],\n",
              " [2.109502310972899, [(6.7, 3.1), (4.6, 2.9)]]]"
            ]
          },
          "metadata": {},
          "execution_count": 44
        }
      ]
    },
    {
      "cell_type": "code",
      "metadata": {
        "colab": {
          "base_uri": "https://localhost:8080/"
        },
        "id": "H_XjIzjp7H2p",
        "outputId": "bea22252-89cd-47fc-a1a5-d8ff498956f8"
      },
      "source": [
        "print(\"Q1: Distance between closest points is {:.4f} between points {} and {}\".format(new_dists[0][0], new_dists[0][1][0], new_dists[0][1][1]))\n",
        "print(\"Q2: Distance between farthest points is {:.4f} between points {} and {}\".format(new_dists[-1][0], new_dists[-1][1][0], new_dists[-1][1][1]))\n",
        "print(\"Q3: Average of all distances is {:.4f}\".format(d/len(new_dists)))"
      ],
      "execution_count": null,
      "outputs": [
        {
          "output_type": "stream",
          "name": "stdout",
          "text": [
            "Q1: Distance between closest points is 0.1414 between points (4.9, 3.1) and (5.0, 3.0)\n",
            "Q2: Distance between farthest points is 2.1095 between points (6.7, 3.1) and (4.6, 2.9)\n",
            "Q3: Average of all distances is 0.9830\n"
          ]
        }
      ]
    },
    {
      "cell_type": "markdown",
      "metadata": {
        "id": "_VpD8TbZFxgJ"
      },
      "source": [
        "TASK 2"
      ]
    },
    {
      "cell_type": "code",
      "metadata": {
        "id": "j3zv2nirVZw0"
      },
      "source": [
        "def accuracy(l, c, k):\n",
        "  scores = np.zeros((k, k))\n",
        "  for i in range(len(c)):\n",
        "    scores[c[i]][l[i][0]] += 1 \n",
        "  total = 0\n",
        "  misclassified = 0\n",
        "  for i in range(k):\n",
        "    majority_label = 0\n",
        "    majority = 0\n",
        "    for j in range(k):\n",
        "      if scores[i][j] > majority:\n",
        "        majority = scores[i][j]\n",
        "        majority_label = j\n",
        "    for j in range(k):\n",
        "      total += scores[i][j]\n",
        "      if j != majority_label:\n",
        "        misclassified += scores[i][j]\n",
        "  return (total - misclassified) *100/ total"
      ],
      "execution_count": 119,
      "outputs": []
    },
    {
      "cell_type": "code",
      "metadata": {
        "id": "QbFDH4-KGTo9"
      },
      "source": [
        "def distfn(a, b, distType):\n",
        "     if( distType == \"Euclidean\"):\n",
        "            return np.sqrt(np.sum(np.square(np.subtract(a,b))))\n",
        "     elif( distType == \"Cosine\"):\n",
        "         return 1 - np.divide(np.sum(np.multiply(a,b)), np.multiply(np.sqrt(np.sum(np.square(a))),np.sqrt(np.sum(np.square(b)))))\n",
        "     elif( distType == \"Jaccard\"):\n",
        "         return 1 - np.divide(np.sum(np.minimum(a,b)), np.sum(np.maximum(a,b)))"
      ],
      "execution_count": 103,
      "outputs": []
    },
    {
      "cell_type": "code",
      "metadata": {
        "id": "v4fL1CRae_5N"
      },
      "source": [
        "def sse(data, centroids, distType):\n",
        "  result = 0\n",
        "  for centroid in centroids:\n",
        "      for point in data:\n",
        "        result +=distfn(point,centroid,distType)**2\n",
        "  return result\n"
      ],
      "execution_count": 138,
      "outputs": []
    },
    {
      "cell_type": "code",
      "metadata": {
        "id": "LWtpBqhHCUHD"
      },
      "source": [
        "def kmeans(data, labels, dist='euclidean', stop='centroids', n_iterations=0):\n",
        "  iterations = 0\n",
        "  k = 10\n",
        "\n",
        "  firstCentroids = np.random.choice(len(data), k, replace=False)\n",
        "  centroids = data[firstCentroids, :]\n",
        "  \n",
        "  start = time.time_ns()\n",
        "\n",
        "  while True:\n",
        "\n",
        "    prev_centroids = np.copy(centroids)\n",
        "\n",
        "    iterations += 1\n",
        "    distances = np.zeros((data.shape[0], centroids.shape[0]))\n",
        "    centroid_sums = np.zeros(centroids.shape)\n",
        "    centroid_counts = np.zeros(centroids.shape[0])\n",
        "   \n",
        "    for i, instance in enumerate(data):\n",
        "      for j, centroid in enumerate(centroids):\n",
        "        distances[i][j] = distfn(instance, centroid, dist)  \n",
        "\n",
        "    point_labels = np.array([np.argmin(i) for i in distances])\n",
        "    \n",
        "\n",
        "    for i in range(len(centroids)):\n",
        "      centroids[i] = data[point_labels==i].mean(axis=0)\n",
        "      \n",
        "    if stop == 'stop':\n",
        "      if np.array_equal(np.sort(prev_centroids), np.sort(centroids)):\n",
        "        break\n",
        "      if sse(data, centroids, dist) > sse(data, prev_centroids, dist):\n",
        "        centroids = np.copy(prev_centroids)\n",
        "        break\n",
        "      if (n_iterations != 0 and iterations >= n_iterations) or (n_iterations == 0 and iterations >= 100):\n",
        "        break\n",
        "\n",
        "    if stop == 'centroids' and np.array_equal(np.sort(prev_centroids), np.sort(centroids)):\n",
        "      break\n",
        "    \n",
        "    if stop == 'sse' and sse(data, centroids, dist) > sse(data, prev_centroids, dist):\n",
        "      centroids = np.copy(prev_centroids)\n",
        "      break\n",
        "\n",
        "    if stop == 'iterations':\n",
        "       if (n_iterations != 0 and iterations >= n_iterations) or (n_iterations == 0 and iterations >= 100):\n",
        "         break\n",
        "\n",
        "  end = time.time_ns()\n",
        "  runtime = end - start\n",
        "\n",
        "  return point_labels, centroids, iterations, runtime\n"
      ],
      "execution_count": 104,
      "outputs": []
    },
    {
      "cell_type": "code",
      "metadata": {
        "id": "ZcjOiwpRCxk1"
      },
      "source": [
        "\n",
        "data = pd.read_csv(\"data.csv\")\n",
        "labels = pd.read_csv(\"label.csv\")\n",
        "\n",
        "data = data.to_numpy(dtype=float)\n",
        "labels = labels.to_numpy(dtype=int)"
      ],
      "execution_count": 101,
      "outputs": []
    },
    {
      "cell_type": "code",
      "metadata": {
        "id": "qrNAI-WdCyNd"
      },
      "source": [
        "clusters_e, centroids_e, iterations_e, runtime_e = kmeans(data, labels, 'euclidean', 'centroids', 0)\n",
        "clusters_c, centroids_c, iterations_c, runtime_c = kmeans(data, labels, 'cosine', 'centroids', 0)\n",
        "clusters_j, centroids_j, iterations_j, runtime_j = kmeans(data, labels, 'jaccard', 'centroids', 0)"
      ],
      "execution_count": 123,
      "outputs": []
    },
    {
      "cell_type": "markdown",
      "metadata": {
        "id": "R4WsGCcIQfGy"
      },
      "source": [
        "Question 1:"
      ]
    },
    {
      "cell_type": "code",
      "metadata": {
        "colab": {
          "base_uri": "https://localhost:8080/"
        },
        "id": "TluYzbFZQevq",
        "outputId": "d5141cbe-7695-47c0-cc6a-7c7ea8c56683"
      },
      "source": [
        "print(\" Euclidean_SSE \", sse(data, centroids_e, 'euclidean'))\n",
        "print(\" cosine_SSE \", sse(data, centroids_c, 'cosine'))\n",
        "print(\" jaccard_SSE \", sse(data, centroids_j, 'jaccard'))"
      ],
      "execution_count": 125,
      "outputs": [
        {
          "output_type": "stream",
          "name": "stdout",
          "text": [
            " Euclidean_SSE  431917685440.50366\n",
            " cosine_SSE  22202.66026726738\n",
            " jaccard_SSE  55506.71370922564\n"
          ]
        }
      ]
    },
    {
      "cell_type": "markdown",
      "metadata": {
        "id": "-c6zCjaoRi_f"
      },
      "source": [
        "Question:2"
      ]
    },
    {
      "cell_type": "code",
      "metadata": {
        "colab": {
          "base_uri": "https://localhost:8080/"
        },
        "id": "U7GmfxZ_QcNT",
        "outputId": "73e0d197-9b34-4faa-ecf4-f4d91f15d08e"
      },
      "source": [
        "print(\" Euclidean_Accuracy \", accuracy(labels, clusters_e, 10))\n",
        "print(\" cosine_Accuracy \", accuracy(labels, clusters_c, 10))\n",
        "print(\" jaccard_Accuracy \", accuracy(labels, clusters_j, 10))"
      ],
      "execution_count": 126,
      "outputs": [
        {
          "output_type": "stream",
          "name": "stdout",
          "text": [
            " Euclidean_Accuracy  62.17621762176218\n",
            " cosine_Accuracy  62.116211621162115\n",
            " jaccard_Accuracy  60.26602660266027\n"
          ]
        }
      ]
    },
    {
      "cell_type": "code",
      "metadata": {
        "id": "JOvTsz-0DDbv"
      },
      "source": [
        "clusters_es, centroids_es, iterations_es, runtime_es = kmeans(data, labels, 'euclidean', 'sse', 0)\n",
        "clusters_cs, centroids_cs, iterations_cs, runtime_cs = kmeans(data, labels, 'cosine', 'sse', 0)\n",
        "clusters_js, centroids_js, iterations_js, runtime_js = kmeans(data, labels, 'jaccard', 'sse', 0)"
      ],
      "execution_count": 117,
      "outputs": []
    },
    {
      "cell_type": "code",
      "metadata": {
        "id": "yp6yjCvDDM6O"
      },
      "source": [
        "clusters_ei, centroids_ei, iterations_ei, runtime_ei = kmeans(data, labels, 'euclidean', 'iterations', 100)\n",
        "clusters_ci, centroids_ci, iterations_ci, runtime_ci = kmeans(data, labels, 'euclidean', 'iterations', 100)\n",
        "clusters_ji, centroids_ji, iterations_ji, runtime_ji = kmeans(data, labels, 'euclidean', 'iterations', 100)"
      ],
      "execution_count": 118,
      "outputs": []
    },
    {
      "cell_type": "markdown",
      "metadata": {
        "id": "Il3-X_1ZVxXN"
      },
      "source": [
        "Question 3"
      ]
    },
    {
      "cell_type": "code",
      "metadata": {
        "id": "69PEUDAVDSQ_"
      },
      "source": [
        "clusters_est, centroids_est, iterations_est, runtime_est = kmeans(data, labels, 'euclidean', 'stop', 0)\n",
        "clusters_cst, centroids_cst, iterations_cst, runtime_cst = kmeans(data, labels, 'cosine', 'stop', 0)\n",
        "clusters_jst, centroids_jst, iterations_jst, runtime_jst = kmeans(data, labels, 'jaccard', 'stop', 0)"
      ],
      "execution_count": 121,
      "outputs": []
    },
    {
      "cell_type": "code",
      "metadata": {
        "colab": {
          "base_uri": "https://localhost:8080/"
        },
        "id": "hwGInIa9Gio6",
        "outputId": "e6853bd9-e0f0-454d-840a-027874d4d834"
      },
      "source": [
        "print(\"Total \", iterations_est, \"iterations in\", runtime_est/pow(10,9), \"for eucledine\")\n",
        "print(\"Total\", iterations_cst, \"iterations in\", runtime_cst/pow(10,9), \"for cosine\")\n",
        "print(\"Total\", iterations_jst, \"iterations in\", runtime_jst/pow(10,9), \"for jaccard\")\n",
        "\n"
      ],
      "execution_count": 132,
      "outputs": [
        {
          "output_type": "stream",
          "name": "stdout",
          "text": [
            "Total  2 iterations in 10.574973009 for eucledine\n",
            "Total 2 iterations in 18.023726935 for cosine\n",
            "Total 4 iterations in 28.819846891 for jaccard\n"
          ]
        }
      ]
    },
    {
      "cell_type": "markdown",
      "metadata": {
        "id": "R15LY5CraaUz"
      },
      "source": [
        "Question 4"
      ]
    },
    {
      "cell_type": "markdown",
      "metadata": {
        "id": "KNst17yIcSfX"
      },
      "source": [
        "For unchanged centroids"
      ]
    },
    {
      "cell_type": "code",
      "metadata": {
        "colab": {
          "base_uri": "https://localhost:8080/"
        },
        "id": "eQHFOPYxaW_d",
        "outputId": "980a68c1-d2ca-4506-9898-0992e5fbfe73"
      },
      "source": [
        "print(\"Euclidean_SSE is \", sse(data, centroids_e, 'euclidean'), \" with the below\", iterations_e)\n",
        "print(\"Cosine_SSE is  \", sse(data, centroids_c, 'cosine'), \"  with the below \", iterations_c,)\n",
        "print(\"Jaccard_SSE is \", sse(data, centroids_j, 'jaccard'), \" with the below \", iterations_j)"
      ],
      "execution_count": 134,
      "outputs": [
        {
          "output_type": "stream",
          "name": "stdout",
          "text": [
            "Euclidean_SSE is  431917685440.50366  with the below 50\n",
            "\n",
            "Cosine_SSE is   22202.66026726738   with the below  44\n",
            "\n",
            "Jaccard_SSE is  55506.71370922564  with the below  71\n"
          ]
        }
      ]
    },
    {
      "cell_type": "markdown",
      "metadata": {
        "id": "yYq29urMc5vS"
      },
      "source": [
        "When SSC increases in next iteration"
      ]
    },
    {
      "cell_type": "code",
      "metadata": {
        "colab": {
          "base_uri": "https://localhost:8080/"
        },
        "id": "tEk2MLCzc3f-",
        "outputId": "d7a8ae71-22d6-4c8a-facb-ec09fdd9e52e"
      },
      "source": [
        "\n",
        "print(\"Euclidean_SSE is \", sse(data, centroids_es, 'euclidean'), \" with the below\", iterations_es)\n",
        "print(\"Cosine_SSE is  \", sse(data, centroids_cs, 'cosine'), \"  with the below \", iterations_cs)\n",
        "print(\"Jaccard_SSE is \", sse(data, centroids_js, 'jaccard'), \" with the below \", iterations_js)"
      ],
      "execution_count": 136,
      "outputs": [
        {
          "output_type": "stream",
          "name": "stdout",
          "text": [
            "Euclidean_SSE is  414405799775.04706  with the below 2\n",
            "Cosine_SSE is   21326.088865421145   with the below  3\n",
            "Jaccard_SSE is  54565.49080703389  with the below  3\n"
          ]
        }
      ]
    },
    {
      "cell_type": "markdown",
      "metadata": {
        "id": "74RTp6VhdyTo"
      },
      "source": [
        "When iterations are increased to 100"
      ]
    },
    {
      "cell_type": "code",
      "metadata": {
        "colab": {
          "base_uri": "https://localhost:8080/"
        },
        "id": "P3gGcx7jdqMZ",
        "outputId": "0cef5a15-0287-4343-e9c8-6dd232277f1c"
      },
      "source": [
        "print(\"Euclidean_SSE is \", sse(data, centroids_ei, 'euclidean'), \" with the below\", iterations_ei)\n",
        "print(\"Cosine_SSE is  \", sse(data, centroids_ci, 'cosine'), \"  with the below \", iterations_ci)\n",
        "print(\"Jaccard_SSE is \", sse(data, centroids_ji, 'jaccard'), \" with the below \", iterations_ji)"
      ],
      "execution_count": 137,
      "outputs": [
        {
          "output_type": "stream",
          "name": "stdout",
          "text": [
            "Euclidean_SSE is  437540554479.0957  with the below 100\n",
            "Cosine_SSE is   22288.5089554461   with the below  100\n",
            "Jaccard_SSE is  55504.42444366054  with the below  100\n"
          ]
        }
      ]
    }
  ]
}